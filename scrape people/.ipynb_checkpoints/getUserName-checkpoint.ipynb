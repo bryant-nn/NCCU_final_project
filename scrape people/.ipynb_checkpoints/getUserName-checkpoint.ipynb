{
 "cells": [
  {
   "cell_type": "code",
   "execution_count": 15,
   "id": "d12f0028",
   "metadata": {},
   "outputs": [],
   "source": [
    "from csv import reader\n",
    "import requests\n",
    "import json\n",
    "from InstagramCLI import InstagramCLI\n",
    "from tqdm import tqdm \n",
    "import time\n",
    "import os\n",
    "from openpyxl import Workbook \n",
    "from openpyxl.reader.excel import load_workbook"
   ]
  },
  {
   "cell_type": "code",
   "execution_count": 202,
   "id": "6e75992a",
   "metadata": {},
   "outputs": [],
   "source": [
    "from selenium import webdriver\n",
    "from selenium.webdriver.support.ui import WebDriverWait\n",
    "from selenium.webdriver.support import expected_conditions as EC\n",
    "from selenium.webdriver.common.by import By\n",
    "from selenium.common.exceptions import TimeoutException\n"
   ]
  },
  {
   "cell_type": "code",
   "execution_count": 82,
   "id": "c2ee4be3",
   "metadata": {},
   "outputs": [
    {
     "name": "stderr",
     "output_type": "stream",
     "text": [
      "<ipython-input-82-28afe0c0881e>:1: DeprecationWarning: executable_path has been deprecated, please pass in a Service object\n",
      "  browser = webdriver.Chrome(executable_path=\"./chromedriver\")\n"
     ]
    }
   ],
   "source": [
    "browser = webdriver.Chrome(executable_path=\"./chromedriver\")"
   ]
  },
  {
   "cell_type": "code",
   "execution_count": 84,
   "id": "12af324f",
   "metadata": {},
   "outputs": [],
   "source": [
    "browser.get('https://www.instagram.com')"
   ]
  },
  {
   "cell_type": "code",
   "execution_count": 203,
   "id": "0cf01156",
   "metadata": {},
   "outputs": [
    {
     "name": "stdout",
     "output_type": "stream",
     "text": [
      "[19/04/2022 16:09:22] Initiating\n",
      "[19/04/2022 16:09:32] Authenticating\n",
      "[19/04/2022 16:09:35] Authentication Successful\n",
      "[19/04/2022 16:09:35] Logging In - ETA 120 seconds\n",
      "[19/04/2022 16:09:38] Login Success\n",
      "[19/04/2022 16:09:38] Use save_to_device=True. As some URLs are active only for 24 hrs.\n"
     ]
    }
   ],
   "source": [
    "cli = InstagramCLI(username=\"just_for_fun0323\", password=\"happy123456\")"
   ]
  },
  {
   "cell_type": "code",
   "execution_count": 121,
   "id": "6c1368f7",
   "metadata": {},
   "outputs": [
    {
     "name": "stderr",
     "output_type": "stream",
     "text": [
      "<ipython-input-121-e0a52e865965>:2: DeprecationWarning: Call to deprecated function get_sheet_names (Use wb.sheetnames).\n",
      "  sheet_names = wb.get_sheet_names()\n",
      "<ipython-input-121-e0a52e865965>:3: DeprecationWarning: Call to deprecated function get_sheet_by_name (Use wb[sheetname]).\n",
      "  ws = wb.get_sheet_by_name(sheet_names[0])\n"
     ]
    }
   ],
   "source": [
    "wb = load_workbook('IGuser.xlsx')\n",
    "sheet_names = wb.get_sheet_names()\n",
    "ws = wb.get_sheet_by_name(sheet_names[0])"
   ]
  },
  {
   "cell_type": "code",
   "execution_count": 97,
   "id": "f44a3352",
   "metadata": {},
   "outputs": [],
   "source": [
    "url = \"https://www.instagram.com/web/search/topsearch/?context=blended&query=\"\n",
    "headers = {'user-agent': 'Mozilla/5.0 (Macintosh; Intel Mac OS X 10_15_7) AppleWebKit/537.36 (KHTML, like Gecko) Chrome/99.0.4844.51 Safari/537.36'}\n"
   ]
  },
  {
   "cell_type": "code",
   "execution_count": 123,
   "id": "8bcdcd51",
   "metadata": {},
   "outputs": [
    {
     "name": "stderr",
     "output_type": "stream",
     "text": [
      "\r",
      "  0%|          | 0/9 [00:00<?, ?it/s]"
     ]
    },
    {
     "name": "stdout",
     "output_type": "stream",
     "text": [
      "賴憲政\n"
     ]
    },
    {
     "name": "stderr",
     "output_type": "stream",
     "text": [
      "<ipython-input-123-7a6c349456a5>:20: DeprecationWarning: find_element_by_* commands are deprecated. Please use find_element() instead\n",
      "  data = browser.find_element_by_xpath('/html/body/pre').text\n",
      " 11%|█         | 1/9 [00:04<00:39,  4.97s/it]"
     ]
    },
    {
     "name": "stdout",
     "output_type": "stream",
     "text": [
      "張友驊\n"
     ]
    },
    {
     "name": "stderr",
     "output_type": "stream",
     "text": [
      "\r",
      " 22%|██▏       | 2/9 [00:10<00:37,  5.42s/it]"
     ]
    },
    {
     "name": "stdout",
     "output_type": "stream",
     "text": [
      "黃文玲\n"
     ]
    },
    {
     "name": "stderr",
     "output_type": "stream",
     "text": [
      "\r",
      " 33%|███▎      | 3/9 [00:19<00:41,  6.87s/it]"
     ]
    },
    {
     "name": "stdout",
     "output_type": "stream",
     "text": [
      "林忠正\n"
     ]
    },
    {
     "name": "stderr",
     "output_type": "stream",
     "text": [
      "\r",
      " 44%|████▍     | 4/9 [00:24<00:31,  6.38s/it]"
     ]
    },
    {
     "name": "stdout",
     "output_type": "stream",
     "text": [
      "楊憲宏\n"
     ]
    },
    {
     "name": "stderr",
     "output_type": "stream",
     "text": [
      "\r",
      " 56%|█████▌    | 5/9 [00:30<00:24,  6.08s/it]"
     ]
    },
    {
     "name": "stdout",
     "output_type": "stream",
     "text": [
      "張文山\n"
     ]
    },
    {
     "name": "stderr",
     "output_type": "stream",
     "text": [
      "\r",
      " 67%|██████▋   | 6/9 [00:37<00:18,  6.25s/it]"
     ]
    },
    {
     "name": "stdout",
     "output_type": "stream",
     "text": [
      "高哲翰\n"
     ]
    },
    {
     "name": "stderr",
     "output_type": "stream",
     "text": [
      "\r",
      " 78%|███████▊  | 7/9 [00:45<00:13,  6.81s/it]"
     ]
    },
    {
     "name": "stdout",
     "output_type": "stream",
     "text": [
      "沈志霖\n"
     ]
    },
    {
     "name": "stderr",
     "output_type": "stream",
     "text": [
      "\r",
      " 89%|████████▉ | 8/9 [00:55<00:07,  7.93s/it]"
     ]
    },
    {
     "name": "stdout",
     "output_type": "stream",
     "text": [
      "黃越宏\n"
     ]
    },
    {
     "name": "stderr",
     "output_type": "stream",
     "text": [
      "100%|██████████| 9/9 [01:03<00:00,  7.00s/it]\n"
     ]
    }
   ],
   "source": [
    "following_dic = {}\n",
    "for rx in tqdm(range(1, 280)):\n",
    "    user = ws.cell(row=rx, column=2).value\n",
    "    \n",
    "    if os.path.exists(f'{user}_following.json'):\n",
    "        continue\n",
    "    \n",
    "    if user != None:\n",
    "        data = cli.get_following(user ,save_to_file=True)\n",
    "        \n",
    "        continue\n",
    "    \n",
    "    name = ws.cell(row=rx, column=1).value\n",
    "    print(name)\n",
    "    \n",
    "    try:\n",
    "        browser.get(f'{url}{name}')\n",
    "        time.sleep(3.4)\n",
    "        \n",
    "        data = browser.find_element_by_xpath('/html/body/pre').text\n",
    "        query = json.loads(data)\n",
    "        \n",
    "        \n",
    "        if len(query['users']) == 0:\n",
    "            continue\n",
    "    \n",
    "        for i in range(len(query['users'])):\n",
    "        \n",
    "    #       doesn't exist official account\n",
    "            if i == 3:\n",
    "                break\n",
    "            \n",
    "    #       account is not private\n",
    "            if query['users'][i]['user']['is_private'] == True:\n",
    "                continue\n",
    " \n",
    "            user = (query['users'][i]['user']['username'])       \n",
    "            if query['users'][i]['user']['is_verified'] == True:\n",
    "                ws[f'B{rx}'] = user\n",
    "                \n",
    "                wb.save('IGuser.xlsx')\n",
    "                \n",
    "                data = cli.get_following(user ,save_to_file=True)\n",
    "                \n",
    "                break\n",
    "            \n",
    "            user_info = (cli.get_user_info(user ,save_to_device=False))\n",
    "            if user_info['follower_count'] >= 3000 :\n",
    "                ws[f'B{rx}'] = user\n",
    "                \n",
    "                wb.save('IGuser.xlsx')\n",
    "                \n",
    "                data = cli.get_following(user ,save_to_file=True)\n",
    "                \n",
    "                break\n",
    "                    \n",
    "    except Exception as e:\n",
    "        print(e)\n",
    "        \n",
    "        browser.find_element_by_name('username').send_keys('108703030@nccu.edu.tw')\n",
    "        browser.find_element_by_name('password').send_keys('happy123456')\n",
    "        browser.find_element_by_xpath(\"//button[@type='submit']\").click()\n",
    "        \n",
    "        continue\n",
    "    "
   ]
  },
  {
   "cell_type": "code",
   "execution_count": 106,
   "id": "a88cd2c4",
   "metadata": {},
   "outputs": [
    {
     "name": "stderr",
     "output_type": "stream",
     "text": [
      "<ipython-input-106-1e30c64a9fd2>:1: DeprecationWarning: find_element_by_* commands are deprecated. Please use find_element() instead\n",
      "  browser.find_element_by_name('username').send_keys('108703030@nccu.edu.tw')\n"
     ]
    }
   ],
   "source": [
    "browser.find_element_by_name('username').send_keys('108703030@nccu.edu.tw')\n",
    "browser.find_element_by_name('password').send_keys('happy123456')\n",
    "browser.find_element_by_xpath(\"//button[@type='submit']\").click()"
   ]
  },
  {
   "cell_type": "markdown",
   "id": "37815777",
   "metadata": {},
   "source": [
    "## Build a excel of following relationship"
   ]
  },
  {
   "cell_type": "code",
   "execution_count": 146,
   "id": "6fdf3286",
   "metadata": {},
   "outputs": [],
   "source": [
    "# build a new excel\n",
    "wb = Workbook()\n",
    "ws = wb.active\n",
    "ws['A1'] = 'Public_Peo_Name'\n",
    "ws['B1'] = 'Other_Peo_Name'"
   ]
  },
  {
   "cell_type": "code",
   "execution_count": 152,
   "id": "13e1d7d6",
   "metadata": {},
   "outputs": [],
   "source": [
    "# save following people to excel\n",
    "user_list = []\n",
    "num = 2\n",
    "for doc in os.listdir('./political_following'):\n",
    "    if doc == '.DS_Store':\n",
    "        continue\n",
    "    \n",
    "    user = doc.split('_following')[0]\n",
    "    user_list.append(user)\n",
    "\n",
    "    with open(f'./political_following/{doc}') as f:\n",
    "        data = json.load(f)\n",
    "        for people in data:\n",
    "            follow_people = people['username']\n",
    "            \n",
    "            ws[f'A{num}'] = user\n",
    "            ws[f'B{num}'] = follow_people\n",
    "            \n",
    "            num += 1\n",
    "wb.save('following.xlsx')"
   ]
  },
  {
   "cell_type": "code",
   "execution_count": null,
   "id": "2b9166fa",
   "metadata": {},
   "outputs": [],
   "source": [
    "print(people)"
   ]
  },
  {
   "cell_type": "markdown",
   "id": "861248ca",
   "metadata": {},
   "source": [
    "## seize Singer, Political Person, ... in Layer1"
   ]
  },
  {
   "cell_type": "code",
   "execution_count": 1,
   "id": "ebaafeb9",
   "metadata": {},
   "outputs": [],
   "source": [
    "import json "
   ]
  },
  {
   "cell_type": "code",
   "execution_count": 2,
   "id": "8f5019c9",
   "metadata": {},
   "outputs": [],
   "source": [
    "# Opening JSON file \n",
    "f = open('filtered_username.json') \n",
    "\n",
    "# returns JSON object as  \n",
    "# a dictionary \n",
    "data = json.load(f) "
   ]
  },
  {
   "cell_type": "code",
   "execution_count": 7,
   "id": "8e59e89d",
   "metadata": {},
   "outputs": [],
   "source": [
    "public_people_list = []\n",
    "for d in data:\n",
    "    public_people_list.append(d['username'])\n"
   ]
  },
  {
   "cell_type": "markdown",
   "id": "95f6d694",
   "metadata": {},
   "source": [
    "## Layer2 -> crawl the layer1 following people's following relationship"
   ]
  },
  {
   "cell_type": "code",
   "execution_count": null,
   "id": "ca2ab217",
   "metadata": {},
   "outputs": [],
   "source": [
    "import openpyxl\n",
    "import requests\n",
    "import json\n",
    "import time"
   ]
  },
  {
   "cell_type": "code",
   "execution_count": 158,
   "id": "ba947ca6",
   "metadata": {},
   "outputs": [
    {
     "name": "stdout",
     "output_type": "stream",
     "text": [
      "[18/04/2022 17:57:14] Initiating\n",
      "[18/04/2022 17:57:22] Authenticating\n",
      "[18/04/2022 17:57:25] Authentication Successful\n",
      "[18/04/2022 17:57:25] Logging In - ETA 120 seconds\n",
      "[18/04/2022 17:57:28] Login Success\n",
      "[18/04/2022 17:57:28] Use save_to_device=True. As some URLs are active only for 24 hrs.\n"
     ]
    }
   ],
   "source": [
    "cli = InstagramCLI(username=\"fight_song_007\", password=\"monkey@0720\")"
   ]
  },
  {
   "cell_type": "code",
   "execution_count": 35,
   "id": "306a61ba",
   "metadata": {},
   "outputs": [
    {
     "name": "stdout",
     "output_type": "stream",
     "text": [
      "[24/04/2022 23:10:33] Initiating\n",
      "[24/04/2022 23:10:44] Authenticating\n",
      "[24/04/2022 23:10:46] Authentication Successful\n",
      "[24/04/2022 23:10:46] Logging In - ETA 120 seconds\n",
      "[24/04/2022 23:10:51] Login Success\n",
      "[24/04/2022 23:10:51] Use save_to_device=True. As some URLs are active only for 24 hrs.\n"
     ]
    }
   ],
   "source": [
    "cli = InstagramCLI(username=\"9487887987ya\", password=\"test123test\")"
   ]
  },
  {
   "cell_type": "code",
   "execution_count": 223,
   "id": "8dba08f5",
   "metadata": {},
   "outputs": [
    {
     "name": "stdout",
     "output_type": "stream",
     "text": [
      "[19/04/2022 22:04:04] Initiating\n",
      "[19/04/2022 22:04:17] Authenticating\n",
      "[19/04/2022 22:04:20] Authentication Successful\n",
      "[19/04/2022 22:04:20] Logging In - ETA 120 seconds\n",
      "[19/04/2022 22:04:24] Login Success\n",
      "[19/04/2022 22:04:24] Use save_to_device=True. As some URLs are active only for 24 hrs.\n"
     ]
    }
   ],
   "source": [
    "cli = InstagramCLI(username=\"10.8703043\", password=\"happy123456\")"
   ]
  },
  {
   "cell_type": "code",
   "execution_count": 180,
   "id": "53593c43",
   "metadata": {},
   "outputs": [
    {
     "name": "stdout",
     "output_type": "stream",
     "text": [
      "[18/04/2022 20:40:54] Initiating\n",
      "[18/04/2022 20:41:23] Authenticating\n",
      "[18/04/2022 20:41:26] Authentication Successful\n",
      "[18/04/2022 20:41:26] Logging In - ETA 120 seconds\n",
      "[18/04/2022 20:41:45] Login Success\n",
      "[18/04/2022 20:41:45] Use save_to_device=True. As some URLs are active only for 24 hrs.\n"
     ]
    }
   ],
   "source": [
    "cli = InstagramCLI(username=\"cllhen6\", password=\"happy123456\")"
   ]
  },
  {
   "cell_type": "code",
   "execution_count": 209,
   "id": "991cbbf3",
   "metadata": {},
   "outputs": [
    {
     "name": "stdout",
     "output_type": "stream",
     "text": [
      "[19/04/2022 16:17:57] Initiating\n",
      "[19/04/2022 16:18:08] Authenticating\n",
      "[19/04/2022 16:18:10] Authentication Successful\n",
      "[19/04/2022 16:18:10] Logging In - ETA 120 seconds\n",
      "[19/04/2022 16:18:14] Login Success\n",
      "[19/04/2022 16:18:14] Use save_to_device=True. As some URLs are active only for 24 hrs.\n"
     ]
    }
   ],
   "source": [
    "cli = InstagramCLI(username=\"aaa.aaa.1100\", password=\"happy123456\")"
   ]
  },
  {
   "cell_type": "code",
   "execution_count": 37,
   "id": "1afda315",
   "metadata": {},
   "outputs": [
    {
     "name": "stdout",
     "output_type": "stream",
     "text": [
      "[24/04/2022 23:14:33] Initiating\n",
      "[24/04/2022 23:14:45] Authenticating\n",
      "[24/04/2022 23:14:48] Authentication Successful\n",
      "[24/04/2022 23:14:48] Logging In - ETA 120 seconds\n",
      "[24/04/2022 23:14:58] Login Success\n",
      "[24/04/2022 23:14:58] Use save_to_device=True. As some URLs are active only for 24 hrs.\n"
     ]
    }
   ],
   "source": [
    "cli = InstagramCLI(username=\"10.8703033\", password=\"happy123456\")"
   ]
  },
  {
   "cell_type": "code",
   "execution_count": 46,
   "id": "1c8c07e7",
   "metadata": {},
   "outputs": [
    {
     "name": "stdout",
     "output_type": "stream",
     "text": [
      "[24/04/2022 23:48:45] Initiating\n",
      "[24/04/2022 23:48:56] Authenticating\n",
      "[24/04/2022 23:48:59] Authentication Successful\n",
      "[24/04/2022 23:49:00] Logging In - ETA 120 seconds\n",
      "[24/04/2022 23:49:07] Login Success\n",
      "[24/04/2022 23:49:07] Use save_to_device=True. As some URLs are active only for 24 hrs.\n"
     ]
    }
   ],
   "source": [
    "cli = InstagramCLI(username=\"108703034@protonmail.com\", password=\"happy123456\")"
   ]
  },
  {
   "cell_type": "code",
   "execution_count": 9,
   "id": "87ed8f04",
   "metadata": {},
   "outputs": [
    {
     "name": "stderr",
     "output_type": "stream",
     "text": [
      "<ipython-input-9-e3fd5086414b>:2: DeprecationWarning: Call to deprecated function get_sheet_names (Use wb.sheetnames).\n",
      "  sheet_names = wb.get_sheet_names()\n",
      "<ipython-input-9-e3fd5086414b>:3: DeprecationWarning: Call to deprecated function get_sheet_by_name (Use wb[sheetname]).\n",
      "  ws = wb.get_sheet_by_name(sheet_names[0])\n"
     ]
    }
   ],
   "source": [
    "wb = openpyxl.load_workbook('following.xlsx')\n",
    "sheet_names = wb.get_sheet_names()\n",
    "ws = wb.get_sheet_by_name(sheet_names[0])"
   ]
  },
  {
   "cell_type": "code",
   "execution_count": 47,
   "id": "7f67dc10",
   "metadata": {},
   "outputs": [
    {
     "name": "stderr",
     "output_type": "stream",
     "text": [
      "<ipython-input-47-b999f0a5b087>:2: DeprecationWarning: Call to deprecated function get_sheet_names (Use wb.sheetnames).\n",
      "  sheet_names_new = wb.get_sheet_names()\n",
      "<ipython-input-47-b999f0a5b087>:3: DeprecationWarning: Call to deprecated function get_sheet_by_name (Use wb[sheetname]).\n",
      "  ws_new = wb_new.get_sheet_by_name(sheet_names_new[0])\n"
     ]
    }
   ],
   "source": [
    "wb_new = openpyxl.load_workbook('following_new.xlsx')\n",
    "sheet_names_new = wb.get_sheet_names()\n",
    "ws_new = wb_new.get_sheet_by_name(sheet_names_new[0])"
   ]
  },
  {
   "cell_type": "code",
   "execution_count": 31,
   "id": "8c605bb0",
   "metadata": {},
   "outputs": [],
   "source": [
    "# -- find topic people according to .json -- \n",
    "topic_people_list = []\n",
    "for i in range(2, 15142):\n",
    "    name = ws.cell(row = i, column = 2).value\n",
    "    if name in public_people_list and name not in topic_people_list and name not in people_list:\n",
    "        topic_people_list.append(name)"
   ]
  },
  {
   "cell_type": "code",
   "execution_count": 49,
   "id": "9064aca9",
   "metadata": {},
   "outputs": [
    {
     "name": "stdout",
     "output_type": "stream",
     "text": [
      "[24/04/2022 23:50:18] Disclaimer : Following list may contain duplicate and missing records. High risk of being blocked after 4k records.\n",
      "[24/04/2022 23:50:19] nameweephoto Following : 720\n",
      "[24/04/2022 23:51:59] Saved : nameweephoto_following.json\n",
      "nameweephoto\n",
      "[24/04/2022 23:51:59] Disclaimer : Following list may contain duplicate and missing records. High risk of being blocked after 4k records.\n",
      "[24/04/2022 23:52:00] cheer___chen Following : 2\n",
      "cheer___chen\n",
      "[24/04/2022 23:52:00] Disclaimer : Following list may contain duplicate and missing records. High risk of being blocked after 4k records.\n",
      "[24/04/2022 23:52:02] ting.talk Following : 617\n",
      "[24/04/2022 23:52:43] Saved : ting.talk_following.json\n",
      "ting.talk\n",
      "[24/04/2022 23:52:43] Disclaimer : Following list may contain duplicate and missing records. High risk of being blocked after 4k records.\n",
      "[24/04/2022 23:52:44] sandeechan Following : 88\n",
      "[24/04/2022 23:52:49] Saved : sandeechan_following.json\n",
      "sandeechan\n",
      "[24/04/2022 23:52:49] Disclaimer : Following list may contain duplicate and missing records. High risk of being blocked after 4k records.\n",
      "[24/04/2022 23:52:50] faye.officialpage Following : 34\n",
      "[24/04/2022 23:52:52] Saved : faye.officialpage_following.json\n",
      "faye.officialpage\n",
      "[24/04/2022 23:52:52] Disclaimer : Following list may contain duplicate and missing records. High risk of being blocked after 4k records.\n",
      "[24/04/2022 23:52:54] official_bii Following : 101\n",
      "[24/04/2022 23:53:00] Saved : official_bii_following.json\n",
      "official_bii\n",
      "[24/04/2022 23:53:00] Disclaimer : Following list may contain duplicate and missing records. High risk of being blocked after 4k records.\n",
      "[24/04/2022 23:53:02] weibirdmusic Following : 1370\n",
      "[24/04/2022 23:54:48] Saved : weibirdmusic_following.json\n",
      "weibirdmusic\n",
      "[24/04/2022 23:54:48] Disclaimer : Following list may contain duplicate and missing records. High risk of being blocked after 4k records.\n",
      "[24/04/2022 23:54:50] n_a_n_a_l_e_e Following : 953\n",
      "[24/04/2022 23:56:03] Saved : n_a_n_a_l_e_e_following.json\n",
      "n_a_n_a_l_e_e\n",
      "[24/04/2022 23:56:03] Disclaimer : Following list may contain duplicate and missing records. High risk of being blocked after 4k records.\n",
      "[24/04/2022 23:56:05] rickyhsiaoofficial Following : 35\n",
      "[24/04/2022 23:56:08] Saved : rickyhsiaoofficial_following.json\n",
      "rickyhsiaoofficial\n",
      "[24/04/2022 23:56:08] Disclaimer : Following list may contain duplicate and missing records. High risk of being blocked after 4k records.\n",
      "[24/04/2022 23:56:09] lalabarchannel Following : 296\n",
      "[24/04/2022 23:56:27] Saved : lalabarchannel_following.json\n",
      "lalabarchannel\n",
      "[24/04/2022 23:56:27] Disclaimer : Following list may contain duplicate and missing records. High risk of being blocked after 4k records.\n",
      "[24/04/2022 23:56:29] lulin168 Following : 491\n",
      "[24/04/2022 23:57:06] Saved : lulin168_following.json\n",
      "lulin168\n",
      "[24/04/2022 23:57:06] Disclaimer : Following list may contain duplicate and missing records. High risk of being blocked after 4k records.\n",
      "[24/04/2022 23:57:08] tseng_pets_ohyeah Following : 525\n",
      "[24/04/2022 23:57:48] Saved : tseng_pets_ohyeah_following.json\n",
      "tseng_pets_ohyeah\n",
      "[24/04/2022 23:57:48] Disclaimer : Following list may contain duplicate and missing records. High risk of being blocked after 4k records.\n",
      "[24/04/2022 23:57:50] osn.osn Following : 616\n",
      "[24/04/2022 23:58:41] Saved : osn.osn_following.json\n",
      "osn.osn\n"
     ]
    }
   ],
   "source": [
    "for name in topic_people_list:\n",
    "    if name not in people_list:\n",
    "        cli.get_following(name, save_to_file=True)\n",
    "        people_list.append(name)"
   ]
  },
  {
   "cell_type": "code",
   "execution_count": null,
   "id": "3ac3ac36",
   "metadata": {},
   "outputs": [],
   "source": [
    "headers={\n",
    "    \"User-Agent\": \"Mozilla/5.0 (Macintosh; Intel Mac OS X 10_15_7) AppleWebKit/537.36 (KHTML, like Gecko) Chrome/96.0.4664.93 Safari/537.36\"    \n",
    "}\n",
    "\n",
    "public_list = []\n",
    "\n",
    "for num in tqdm(range(2,15142)):\n",
    "    name = ws.cell(row = num, column = 2).value\n",
    "    url = f'https://www.instagram.com/{name}/?__a=1'\n",
    "    \n",
    "    try:\n",
    "        r = requests.get(url, headers = headers)\n",
    "        a = r.content\n",
    "        data = (json.loads(a))\n",
    "        follower_num = data['graphql']['user']['edge_followed_by']['count']\n",
    "        following_num = data['graphql']['user']['edge_follow']['count']\n",
    "        \n",
    "        if follower_num > 2500 and (follower_num - following_num) > 1000 and name not in public_list:\n",
    "            ws_new[f'C{num}'] = 1\n",
    "            wb_new.save('following_new.xlsx')\n",
    "            public_list.append(name)\n",
    "            \n",
    "        time.sleep(3)\n",
    "    except:\n",
    "        print('error')\n",
    "        continue\n",
    "            "
   ]
  },
  {
   "cell_type": "code",
   "execution_count": 22,
   "id": "85680e37",
   "metadata": {},
   "outputs": [
    {
     "name": "stderr",
     "output_type": "stream",
     "text": [
      "100%|██████████| 110872/110872 [00:00<00:00, 846235.36it/s]\n",
      "100%|██████████| 110872/110872 [00:00<00:00, 1086193.35it/s]\n",
      "100%|██████████| 110872/110872 [00:00<00:00, 1064102.48it/s]\n",
      "100%|██████████| 110872/110872 [00:00<00:00, 1051138.14it/s]\n",
      "100%|██████████| 110872/110872 [00:00<00:00, 1077096.14it/s]\n",
      "100%|██████████| 110872/110872 [00:00<00:00, 1153536.34it/s]\n",
      "100%|██████████| 110872/110872 [00:00<00:00, 1127391.30it/s]\n"
     ]
    }
   ],
   "source": [
    "# -- 將之前抓好且符合資格的第二層人放到following_new.xlsx --\n",
    "index = 20851\n",
    "for name in topic_people_list:\n",
    "    if name in excel_people_list:\n",
    "        for num in tqdm(range(15143, 126015)):\n",
    "            if name == ws.cell(row = num, column = 1).value:\n",
    "                ws_new[f'A{index}'] = name\n",
    "                ws_new[f'B{index}'] = ws.cell(row = num, column = 2).value\n",
    "                index += 1"
   ]
  },
  {
   "cell_type": "code",
   "execution_count": 56,
   "id": "7ee80fcc",
   "metadata": {},
   "outputs": [
    {
     "name": "stderr",
     "output_type": "stream",
     "text": [
      "100%|██████████| 35511/35511 [00:00<00:00, 398457.81it/s]"
     ]
    },
    {
     "name": "stdout",
     "output_type": "stream",
     "text": [
      "83\n"
     ]
    },
    {
     "name": "stderr",
     "output_type": "stream",
     "text": [
      "\n"
     ]
    }
   ],
   "source": [
    "# -- build an exist people list\n",
    "people_list = []\n",
    "excel_people_list = []\n",
    "for i in tqdm(range(2, 35513)):\n",
    "    name = ws_new.cell(row = i, column = 1).value\n",
    "    if name not in people_list:\n",
    "        people_list.append(name)\n",
    "        excel_people_list.append(name)\n",
    "print(len(people_list))"
   ]
  },
  {
   "cell_type": "code",
   "execution_count": 24,
   "id": "ed5bb3bd",
   "metadata": {},
   "outputs": [],
   "source": [
    "wb_new.save('following_new.xlsx')"
   ]
  },
  {
   "cell_type": "code",
   "execution_count": 282,
   "id": "0a51bf35",
   "metadata": {},
   "outputs": [
    {
     "name": "stdout",
     "output_type": "stream",
     "text": [
      "264\n"
     ]
    }
   ],
   "source": [
    "print(len(people_list))"
   ]
  },
  {
   "cell_type": "code",
   "execution_count": 285,
   "id": "77ecd19b",
   "metadata": {},
   "outputs": [
    {
     "name": "stderr",
     "output_type": "stream",
     "text": [
      "\r",
      "  0%|          | 0/14818 [00:00<?, ?it/s]"
     ]
    },
    {
     "name": "stdout",
     "output_type": "stream",
     "text": [
      "[20/04/2022 01:26:43] Disclaimer : Following list may contain duplicate and missing records. High risk of being blocked after 4k records.\n"
     ]
    },
    {
     "name": "stderr",
     "output_type": "stream",
     "text": [
      "WARNING:urllib3.connectionpool:Retrying (Retry(total=2, connect=None, read=None, redirect=None, status=None)) after connection broken by 'NewConnectionError('<urllib3.connection.HTTPConnection object at 0x7fddeaece8e0>: Failed to establish a new connection: [Errno 61] Connection refused')': /session/47df1c4c0529836c3e64719c301ab1d3\n",
      "WARNING:urllib3.connectionpool:Retrying (Retry(total=1, connect=None, read=None, redirect=None, status=None)) after connection broken by 'NewConnectionError('<urllib3.connection.HTTPConnection object at 0x7fddeaece4f0>: Failed to establish a new connection: [Errno 61] Connection refused')': /session/47df1c4c0529836c3e64719c301ab1d3\n",
      "WARNING:urllib3.connectionpool:Retrying (Retry(total=0, connect=None, read=None, redirect=None, status=None)) after connection broken by 'NewConnectionError('<urllib3.connection.HTTPConnection object at 0x7fddeaece370>: Failed to establish a new connection: [Errno 61] Connection refused')': /session/47df1c4c0529836c3e64719c301ab1d3\n",
      "WARNING:urllib3.connectionpool:Retrying (Retry(total=2, connect=None, read=None, redirect=None, status=None)) after connection broken by 'NewConnectionError('<urllib3.connection.HTTPConnection object at 0x7fddeaecee20>: Failed to establish a new connection: [Errno 61] Connection refused')': /session/47df1c4c0529836c3e64719c301ab1d3\n",
      "WARNING:urllib3.connectionpool:Retrying (Retry(total=1, connect=None, read=None, redirect=None, status=None)) after connection broken by 'NewConnectionError('<urllib3.connection.HTTPConnection object at 0x7fddeaece490>: Failed to establish a new connection: [Errno 61] Connection refused')': /session/47df1c4c0529836c3e64719c301ab1d3\n",
      "WARNING:urllib3.connectionpool:Retrying (Retry(total=0, connect=None, read=None, redirect=None, status=None)) after connection broken by 'NewConnectionError('<urllib3.connection.HTTPConnection object at 0x7fddeaece880>: Failed to establish a new connection: [Errno 61] Connection refused')': /session/47df1c4c0529836c3e64719c301ab1d3\n",
      "WARNING:urllib3.connectionpool:Retrying (Retry(total=2, connect=None, read=None, redirect=None, status=None)) after connection broken by 'NewConnectionError('<urllib3.connection.HTTPConnection object at 0x7fddeaee42b0>: Failed to establish a new connection: [Errno 61] Connection refused')': /session/47df1c4c0529836c3e64719c301ab1d3\n",
      "WARNING:urllib3.connectionpool:Retrying (Retry(total=1, connect=None, read=None, redirect=None, status=None)) after connection broken by 'NewConnectionError('<urllib3.connection.HTTPConnection object at 0x7fddeaee44f0>: Failed to establish a new connection: [Errno 61] Connection refused')': /session/47df1c4c0529836c3e64719c301ab1d3\n",
      "WARNING:urllib3.connectionpool:Retrying (Retry(total=0, connect=None, read=None, redirect=None, status=None)) after connection broken by 'NewConnectionError('<urllib3.connection.HTTPConnection object at 0x7fddeaee43d0>: Failed to establish a new connection: [Errno 61] Connection refused')': /session/47df1c4c0529836c3e64719c301ab1d3\n",
      "WARNING:urllib3.connectionpool:Retrying (Retry(total=2, connect=None, read=None, redirect=None, status=None)) after connection broken by 'NewConnectionError('<urllib3.connection.HTTPConnection object at 0x7fddeaee4280>: Failed to establish a new connection: [Errno 61] Connection refused')': /session/47df1c4c0529836c3e64719c301ab1d3\n",
      "WARNING:urllib3.connectionpool:Retrying (Retry(total=1, connect=None, read=None, redirect=None, status=None)) after connection broken by 'NewConnectionError('<urllib3.connection.HTTPConnection object at 0x7fddeaeceaf0>: Failed to establish a new connection: [Errno 61] Connection refused')': /session/47df1c4c0529836c3e64719c301ab1d3\n",
      "WARNING:urllib3.connectionpool:Retrying (Retry(total=0, connect=None, read=None, redirect=None, status=None)) after connection broken by 'NewConnectionError('<urllib3.connection.HTTPConnection object at 0x7fddeaece910>: Failed to establish a new connection: [Errno 61] Connection refused')': /session/47df1c4c0529836c3e64719c301ab1d3\n",
      "WARNING:urllib3.connectionpool:Retrying (Retry(total=2, connect=None, read=None, redirect=None, status=None)) after connection broken by 'NewConnectionError('<urllib3.connection.HTTPConnection object at 0x7fddeaece940>: Failed to establish a new connection: [Errno 61] Connection refused')': /session/47df1c4c0529836c3e64719c301ab1d3\n",
      "WARNING:urllib3.connectionpool:Retrying (Retry(total=1, connect=None, read=None, redirect=None, status=None)) after connection broken by 'NewConnectionError('<urllib3.connection.HTTPConnection object at 0x7fddeaece370>: Failed to establish a new connection: [Errno 61] Connection refused')': /session/47df1c4c0529836c3e64719c301ab1d3\n",
      "WARNING:urllib3.connectionpool:Retrying (Retry(total=0, connect=None, read=None, redirect=None, status=None)) after connection broken by 'NewConnectionError('<urllib3.connection.HTTPConnection object at 0x7fddeaecec10>: Failed to establish a new connection: [Errno 61] Connection refused')': /session/47df1c4c0529836c3e64719c301ab1d3\n",
      "WARNING:urllib3.connectionpool:Retrying (Retry(total=2, connect=None, read=None, redirect=None, status=None)) after connection broken by 'NewConnectionError('<urllib3.connection.HTTPConnection object at 0x7fddea20a8e0>: Failed to establish a new connection: [Errno 61] Connection refused')': /session/47df1c4c0529836c3e64719c301ab1d3\n",
      "WARNING:urllib3.connectionpool:Retrying (Retry(total=1, connect=None, read=None, redirect=None, status=None)) after connection broken by 'NewConnectionError('<urllib3.connection.HTTPConnection object at 0x7fdde8364460>: Failed to establish a new connection: [Errno 61] Connection refused')': /session/47df1c4c0529836c3e64719c301ab1d3\n",
      "WARNING:urllib3.connectionpool:Retrying (Retry(total=0, connect=None, read=None, redirect=None, status=None)) after connection broken by 'NewConnectionError('<urllib3.connection.HTTPConnection object at 0x7fddeaee4a90>: Failed to establish a new connection: [Errno 61] Connection refused')': /session/47df1c4c0529836c3e64719c301ab1d3\n",
      "  0%|          | 0/14818 [00:01<?, ?it/s]"
     ]
    },
    {
     "name": "stdout",
     "output_type": "stream",
     "text": [
      "[20/04/2022 01:26:44] Error occured.\n",
      "Open github issue and upload error snapshot - https://github.com/suyashjawale/InstagramCLI/issues\n",
      "Reason : Expecting value: line 1 column 1 (char 0)\n",
      "<class 'json.decoder.JSONDecodeError'> __init__.py 201\n",
      "name 'exit' is not defined\n",
      "[20/04/2022 01:26:44] Error occured.\n",
      "Open github issue and upload error snapshot - https://github.com/suyashjawale/InstagramCLI/issues\n",
      "Reason : name 'exit' is not defined\n",
      "<class 'NameError'> __init__.py 165\n",
      "name 'exit' is not defined\n",
      "[20/04/2022 01:26:45] Error occured.\n",
      "Open github issue and upload error snapshot - https://github.com/suyashjawale/InstagramCLI/issues\n",
      "Reason : name 'exit' is not defined\n",
      "<class 'NameError'> __init__.py 141\n",
      "name 'exit' is not defined\n"
     ]
    },
    {
     "name": "stderr",
     "output_type": "stream",
     "text": [
      "\n"
     ]
    },
    {
     "ename": "NameError",
     "evalue": "name 'exit' is not defined",
     "output_type": "error",
     "traceback": [
      "\u001b[0;31m---------------------------------------------------------------------------\u001b[0m",
      "\u001b[0;31mJSONDecodeError\u001b[0m                           Traceback (most recent call last)",
      "\u001b[0;32m~/opt/anaconda3/lib/python3.8/site-packages/InstagramCLI/__init__.py\u001b[0m in \u001b[0;36mget_user_info\u001b[0;34m(self, target_username, save_to_device, itype, use)\u001b[0m\n\u001b[1;32m    200\u001b[0m         \u001b[0;32mtry\u001b[0m\u001b[0;34m:\u001b[0m\u001b[0;34m\u001b[0m\u001b[0;34m\u001b[0m\u001b[0m\n\u001b[0;32m--> 201\u001b[0;31m             \u001b[0muser_data\u001b[0m \u001b[0;34m=\u001b[0m \u001b[0mjson\u001b[0m\u001b[0;34m.\u001b[0m\u001b[0mloads\u001b[0m\u001b[0;34m(\u001b[0m\u001b[0mrequests\u001b[0m\u001b[0;34m.\u001b[0m\u001b[0mrequest\u001b[0m\u001b[0;34m(\u001b[0m\u001b[0;34m\"GET\"\u001b[0m\u001b[0;34m,\u001b[0m \u001b[0;34mf\"https://www.instagram.com/{target_username}/?__a=1\"\u001b[0m\u001b[0;34m,\u001b[0m \u001b[0mheaders\u001b[0m\u001b[0;34m=\u001b[0m\u001b[0mself\u001b[0m\u001b[0;34m.\u001b[0m\u001b[0mnewheaders\u001b[0m\u001b[0;34m,\u001b[0m \u001b[0mdata\u001b[0m\u001b[0;34m=\u001b[0m\u001b[0;34m{\u001b[0m\u001b[0;34m}\u001b[0m\u001b[0;34m)\u001b[0m\u001b[0;34m.\u001b[0m\u001b[0mtext\u001b[0m\u001b[0;34m)\u001b[0m\u001b[0;34m\u001b[0m\u001b[0;34m\u001b[0m\u001b[0m\n\u001b[0m\u001b[1;32m    202\u001b[0m             \u001b[0;32mif\u001b[0m \u001b[0;32mnot\u001b[0m \u001b[0muser_data\u001b[0m\u001b[0;34m:\u001b[0m\u001b[0;34m\u001b[0m\u001b[0;34m\u001b[0m\u001b[0m\n",
      "\u001b[0;32m~/opt/anaconda3/lib/python3.8/json/__init__.py\u001b[0m in \u001b[0;36mloads\u001b[0;34m(s, cls, object_hook, parse_float, parse_int, parse_constant, object_pairs_hook, **kw)\u001b[0m\n\u001b[1;32m    356\u001b[0m             parse_constant is None and object_pairs_hook is None and not kw):\n\u001b[0;32m--> 357\u001b[0;31m         \u001b[0;32mreturn\u001b[0m \u001b[0m_default_decoder\u001b[0m\u001b[0;34m.\u001b[0m\u001b[0mdecode\u001b[0m\u001b[0;34m(\u001b[0m\u001b[0ms\u001b[0m\u001b[0;34m)\u001b[0m\u001b[0;34m\u001b[0m\u001b[0;34m\u001b[0m\u001b[0m\n\u001b[0m\u001b[1;32m    358\u001b[0m     \u001b[0;32mif\u001b[0m \u001b[0mcls\u001b[0m \u001b[0;32mis\u001b[0m \u001b[0;32mNone\u001b[0m\u001b[0;34m:\u001b[0m\u001b[0;34m\u001b[0m\u001b[0;34m\u001b[0m\u001b[0m\n",
      "\u001b[0;32m~/opt/anaconda3/lib/python3.8/json/decoder.py\u001b[0m in \u001b[0;36mdecode\u001b[0;34m(self, s, _w)\u001b[0m\n\u001b[1;32m    336\u001b[0m         \"\"\"\n\u001b[0;32m--> 337\u001b[0;31m         \u001b[0mobj\u001b[0m\u001b[0;34m,\u001b[0m \u001b[0mend\u001b[0m \u001b[0;34m=\u001b[0m \u001b[0mself\u001b[0m\u001b[0;34m.\u001b[0m\u001b[0mraw_decode\u001b[0m\u001b[0;34m(\u001b[0m\u001b[0ms\u001b[0m\u001b[0;34m,\u001b[0m \u001b[0midx\u001b[0m\u001b[0;34m=\u001b[0m\u001b[0m_w\u001b[0m\u001b[0;34m(\u001b[0m\u001b[0ms\u001b[0m\u001b[0;34m,\u001b[0m \u001b[0;36m0\u001b[0m\u001b[0;34m)\u001b[0m\u001b[0;34m.\u001b[0m\u001b[0mend\u001b[0m\u001b[0;34m(\u001b[0m\u001b[0;34m)\u001b[0m\u001b[0;34m)\u001b[0m\u001b[0;34m\u001b[0m\u001b[0;34m\u001b[0m\u001b[0m\n\u001b[0m\u001b[1;32m    338\u001b[0m         \u001b[0mend\u001b[0m \u001b[0;34m=\u001b[0m \u001b[0m_w\u001b[0m\u001b[0;34m(\u001b[0m\u001b[0ms\u001b[0m\u001b[0;34m,\u001b[0m \u001b[0mend\u001b[0m\u001b[0;34m)\u001b[0m\u001b[0;34m.\u001b[0m\u001b[0mend\u001b[0m\u001b[0;34m(\u001b[0m\u001b[0;34m)\u001b[0m\u001b[0;34m\u001b[0m\u001b[0;34m\u001b[0m\u001b[0m\n",
      "\u001b[0;32m~/opt/anaconda3/lib/python3.8/json/decoder.py\u001b[0m in \u001b[0;36mraw_decode\u001b[0;34m(self, s, idx)\u001b[0m\n\u001b[1;32m    354\u001b[0m         \u001b[0;32mexcept\u001b[0m \u001b[0mStopIteration\u001b[0m \u001b[0;32mas\u001b[0m \u001b[0merr\u001b[0m\u001b[0;34m:\u001b[0m\u001b[0;34m\u001b[0m\u001b[0;34m\u001b[0m\u001b[0m\n\u001b[0;32m--> 355\u001b[0;31m             \u001b[0;32mraise\u001b[0m \u001b[0mJSONDecodeError\u001b[0m\u001b[0;34m(\u001b[0m\u001b[0;34m\"Expecting value\"\u001b[0m\u001b[0;34m,\u001b[0m \u001b[0ms\u001b[0m\u001b[0;34m,\u001b[0m \u001b[0merr\u001b[0m\u001b[0;34m.\u001b[0m\u001b[0mvalue\u001b[0m\u001b[0;34m)\u001b[0m \u001b[0;32mfrom\u001b[0m \u001b[0;32mNone\u001b[0m\u001b[0;34m\u001b[0m\u001b[0;34m\u001b[0m\u001b[0m\n\u001b[0m\u001b[1;32m    356\u001b[0m         \u001b[0;32mreturn\u001b[0m \u001b[0mobj\u001b[0m\u001b[0;34m,\u001b[0m \u001b[0mend\u001b[0m\u001b[0;34m\u001b[0m\u001b[0;34m\u001b[0m\u001b[0m\n",
      "\u001b[0;31mJSONDecodeError\u001b[0m: Expecting value: line 1 column 1 (char 0)",
      "\nDuring handling of the above exception, another exception occurred:\n",
      "\u001b[0;31mNameError\u001b[0m                                 Traceback (most recent call last)",
      "\u001b[0;32m~/opt/anaconda3/lib/python3.8/site-packages/InstagramCLI/__init__.py\u001b[0m in \u001b[0;36mexception\u001b[0;34m(***failed resolving arguments***)\u001b[0m\n\u001b[1;32m    107\u001b[0m             \u001b[0mprint\u001b[0m\u001b[0;34m(\u001b[0m\u001b[0mexc_type\u001b[0m\u001b[0;34m,\u001b[0m \u001b[0mfname\u001b[0m\u001b[0;34m,\u001b[0m \u001b[0mexc_tb\u001b[0m\u001b[0;34m.\u001b[0m\u001b[0mtb_lineno\u001b[0m\u001b[0;34m)\u001b[0m\u001b[0;34m\u001b[0m\u001b[0;34m\u001b[0m\u001b[0m\n\u001b[0;32m--> 108\u001b[0;31m             \u001b[0mexit\u001b[0m\u001b[0;34m(\u001b[0m\u001b[0;34m)\u001b[0m\u001b[0;34m\u001b[0m\u001b[0;34m\u001b[0m\u001b[0m\n\u001b[0m\u001b[1;32m    109\u001b[0m         \u001b[0;32mexcept\u001b[0m \u001b[0mException\u001b[0m \u001b[0;32mas\u001b[0m \u001b[0me\u001b[0m\u001b[0;34m:\u001b[0m\u001b[0;34m\u001b[0m\u001b[0;34m\u001b[0m\u001b[0m\n",
      "\u001b[0;31mNameError\u001b[0m: name 'exit' is not defined",
      "\nDuring handling of the above exception, another exception occurred:\n",
      "\u001b[0;31mNameError\u001b[0m                                 Traceback (most recent call last)",
      "\u001b[0;32m~/opt/anaconda3/lib/python3.8/site-packages/InstagramCLI/__init__.py\u001b[0m in \u001b[0;36mget_users\u001b[0;34m(self, target_username, types, extension)\u001b[0m\n\u001b[1;32m    164\u001b[0m         \u001b[0;32mtry\u001b[0m\u001b[0;34m:\u001b[0m\u001b[0;34m\u001b[0m\u001b[0;34m\u001b[0m\u001b[0m\n\u001b[0;32m--> 165\u001b[0;31m             user_info = self.get_user_info(\n\u001b[0m\u001b[1;32m    166\u001b[0m                 target_username, itype=\"implicit\", use=\"user\")\n",
      "\u001b[0;32m~/opt/anaconda3/lib/python3.8/site-packages/InstagramCLI/__init__.py\u001b[0m in \u001b[0;36mget_user_info\u001b[0;34m(self, target_username, save_to_device, itype, use)\u001b[0m\n\u001b[1;32m    259\u001b[0m         \u001b[0;32mexcept\u001b[0m \u001b[0mException\u001b[0m \u001b[0;32mas\u001b[0m \u001b[0me\u001b[0m\u001b[0;34m:\u001b[0m\u001b[0;34m\u001b[0m\u001b[0;34m\u001b[0m\u001b[0m\n\u001b[0;32m--> 260\u001b[0;31m             \u001b[0mself\u001b[0m\u001b[0;34m.\u001b[0m\u001b[0mexception\u001b[0m\u001b[0;34m(\u001b[0m\u001b[0me\u001b[0m\u001b[0;34m)\u001b[0m\u001b[0;34m\u001b[0m\u001b[0;34m\u001b[0m\u001b[0m\n\u001b[0m\u001b[1;32m    261\u001b[0m \u001b[0;34m\u001b[0m\u001b[0m\n",
      "\u001b[0;32m~/opt/anaconda3/lib/python3.8/site-packages/InstagramCLI/__init__.py\u001b[0m in \u001b[0;36mexception\u001b[0;34m(***failed resolving arguments***)\u001b[0m\n\u001b[1;32m    111\u001b[0m             \u001b[0mself\u001b[0m\u001b[0;34m.\u001b[0m\u001b[0mclose\u001b[0m\u001b[0;34m(\u001b[0m\u001b[0;34m)\u001b[0m\u001b[0;34m\u001b[0m\u001b[0;34m\u001b[0m\u001b[0m\n\u001b[0;32m--> 112\u001b[0;31m             \u001b[0mexit\u001b[0m\u001b[0;34m(\u001b[0m\u001b[0;34m)\u001b[0m\u001b[0;34m\u001b[0m\u001b[0;34m\u001b[0m\u001b[0m\n\u001b[0m\u001b[1;32m    113\u001b[0m \u001b[0;34m\u001b[0m\u001b[0m\n",
      "\u001b[0;31mNameError\u001b[0m: name 'exit' is not defined",
      "\nDuring handling of the above exception, another exception occurred:\n",
      "\u001b[0;31mNameError\u001b[0m                                 Traceback (most recent call last)",
      "\u001b[0;32m~/opt/anaconda3/lib/python3.8/site-packages/InstagramCLI/__init__.py\u001b[0m in \u001b[0;36mexception\u001b[0;34m(***failed resolving arguments***)\u001b[0m\n\u001b[1;32m    107\u001b[0m             \u001b[0mprint\u001b[0m\u001b[0;34m(\u001b[0m\u001b[0mexc_type\u001b[0m\u001b[0;34m,\u001b[0m \u001b[0mfname\u001b[0m\u001b[0;34m,\u001b[0m \u001b[0mexc_tb\u001b[0m\u001b[0;34m.\u001b[0m\u001b[0mtb_lineno\u001b[0m\u001b[0;34m)\u001b[0m\u001b[0;34m\u001b[0m\u001b[0;34m\u001b[0m\u001b[0m\n\u001b[0;32m--> 108\u001b[0;31m             \u001b[0mexit\u001b[0m\u001b[0;34m(\u001b[0m\u001b[0;34m)\u001b[0m\u001b[0;34m\u001b[0m\u001b[0;34m\u001b[0m\u001b[0m\n\u001b[0m\u001b[1;32m    109\u001b[0m         \u001b[0;32mexcept\u001b[0m \u001b[0mException\u001b[0m \u001b[0;32mas\u001b[0m \u001b[0me\u001b[0m\u001b[0;34m:\u001b[0m\u001b[0;34m\u001b[0m\u001b[0;34m\u001b[0m\u001b[0m\n",
      "\u001b[0;31mNameError\u001b[0m: name 'exit' is not defined",
      "\nDuring handling of the above exception, another exception occurred:\n",
      "\u001b[0;31mNameError\u001b[0m                                 Traceback (most recent call last)",
      "\u001b[0;32m~/opt/anaconda3/lib/python3.8/site-packages/InstagramCLI/__init__.py\u001b[0m in \u001b[0;36mget_following\u001b[0;34m(self, target_username, save_to_file)\u001b[0m\n\u001b[1;32m    140\u001b[0m             \u001b[0;32mif\u001b[0m\u001b[0;34m(\u001b[0m\u001b[0mtarget_username\u001b[0m\u001b[0;34m.\u001b[0m\u001b[0mstrip\u001b[0m\u001b[0;34m(\u001b[0m\u001b[0;34m)\u001b[0m \u001b[0;34m!=\u001b[0m \u001b[0;34m\"\"\u001b[0m\u001b[0;34m)\u001b[0m\u001b[0;34m:\u001b[0m\u001b[0;34m\u001b[0m\u001b[0;34m\u001b[0m\u001b[0m\n\u001b[0;32m--> 141\u001b[0;31m                 \u001b[0mfollowing\u001b[0m \u001b[0;34m=\u001b[0m \u001b[0mself\u001b[0m\u001b[0;34m.\u001b[0m\u001b[0mget_users\u001b[0m\u001b[0;34m(\u001b[0m\u001b[0mtarget_username\u001b[0m\u001b[0;34m,\u001b[0m \u001b[0;34m\"following\"\u001b[0m\u001b[0;34m)\u001b[0m\u001b[0;34m\u001b[0m\u001b[0;34m\u001b[0m\u001b[0m\n\u001b[0m\u001b[1;32m    142\u001b[0m                 \u001b[0;32mif\u001b[0m \u001b[0msave_to_file\u001b[0m \u001b[0;32mand\u001b[0m \u001b[0mfollowing\u001b[0m\u001b[0;34m:\u001b[0m\u001b[0;34m\u001b[0m\u001b[0;34m\u001b[0m\u001b[0m\n",
      "\u001b[0;32m~/opt/anaconda3/lib/python3.8/site-packages/InstagramCLI/__init__.py\u001b[0m in \u001b[0;36mget_users\u001b[0;34m(self, target_username, types, extension)\u001b[0m\n\u001b[1;32m    196\u001b[0m         \u001b[0;32mexcept\u001b[0m \u001b[0mException\u001b[0m \u001b[0;32mas\u001b[0m \u001b[0me\u001b[0m\u001b[0;34m:\u001b[0m\u001b[0;34m\u001b[0m\u001b[0;34m\u001b[0m\u001b[0m\n\u001b[0;32m--> 197\u001b[0;31m             \u001b[0mself\u001b[0m\u001b[0;34m.\u001b[0m\u001b[0mexception\u001b[0m\u001b[0;34m(\u001b[0m\u001b[0me\u001b[0m\u001b[0;34m)\u001b[0m\u001b[0;34m\u001b[0m\u001b[0;34m\u001b[0m\u001b[0m\n\u001b[0m\u001b[1;32m    198\u001b[0m \u001b[0;34m\u001b[0m\u001b[0m\n",
      "\u001b[0;32m~/opt/anaconda3/lib/python3.8/site-packages/InstagramCLI/__init__.py\u001b[0m in \u001b[0;36mexception\u001b[0;34m(***failed resolving arguments***)\u001b[0m\n\u001b[1;32m    111\u001b[0m             \u001b[0mself\u001b[0m\u001b[0;34m.\u001b[0m\u001b[0mclose\u001b[0m\u001b[0;34m(\u001b[0m\u001b[0;34m)\u001b[0m\u001b[0;34m\u001b[0m\u001b[0;34m\u001b[0m\u001b[0m\n\u001b[0;32m--> 112\u001b[0;31m             \u001b[0mexit\u001b[0m\u001b[0;34m(\u001b[0m\u001b[0;34m)\u001b[0m\u001b[0;34m\u001b[0m\u001b[0;34m\u001b[0m\u001b[0m\n\u001b[0m\u001b[1;32m    113\u001b[0m \u001b[0;34m\u001b[0m\u001b[0m\n",
      "\u001b[0;31mNameError\u001b[0m: name 'exit' is not defined",
      "\nDuring handling of the above exception, another exception occurred:\n",
      "\u001b[0;31mNameError\u001b[0m                                 Traceback (most recent call last)",
      "\u001b[0;32m~/opt/anaconda3/lib/python3.8/site-packages/InstagramCLI/__init__.py\u001b[0m in \u001b[0;36mexception\u001b[0;34m(***failed resolving arguments***)\u001b[0m\n\u001b[1;32m    107\u001b[0m             \u001b[0mprint\u001b[0m\u001b[0;34m(\u001b[0m\u001b[0mexc_type\u001b[0m\u001b[0;34m,\u001b[0m \u001b[0mfname\u001b[0m\u001b[0;34m,\u001b[0m \u001b[0mexc_tb\u001b[0m\u001b[0;34m.\u001b[0m\u001b[0mtb_lineno\u001b[0m\u001b[0;34m)\u001b[0m\u001b[0;34m\u001b[0m\u001b[0;34m\u001b[0m\u001b[0m\n\u001b[0;32m--> 108\u001b[0;31m             \u001b[0mexit\u001b[0m\u001b[0;34m(\u001b[0m\u001b[0;34m)\u001b[0m\u001b[0;34m\u001b[0m\u001b[0;34m\u001b[0m\u001b[0m\n\u001b[0m\u001b[1;32m    109\u001b[0m         \u001b[0;32mexcept\u001b[0m \u001b[0mException\u001b[0m \u001b[0;32mas\u001b[0m \u001b[0me\u001b[0m\u001b[0;34m:\u001b[0m\u001b[0;34m\u001b[0m\u001b[0;34m\u001b[0m\u001b[0m\n",
      "\u001b[0;31mNameError\u001b[0m: name 'exit' is not defined",
      "\nDuring handling of the above exception, another exception occurred:\n",
      "\u001b[0;31mNameError\u001b[0m                                 Traceback (most recent call last)",
      "\u001b[0;32m<ipython-input-285-838ca3ec0dc4>\u001b[0m in \u001b[0;36m<module>\u001b[0;34m\u001b[0m\n\u001b[1;32m     20\u001b[0m \u001b[0;31m#             continue\u001b[0m\u001b[0;34m\u001b[0m\u001b[0;34m\u001b[0m\u001b[0;34m\u001b[0m\u001b[0m\n\u001b[1;32m     21\u001b[0m \u001b[0;34m\u001b[0m\u001b[0m\n\u001b[0;32m---> 22\u001b[0;31m         \u001b[0mcli\u001b[0m\u001b[0;34m.\u001b[0m\u001b[0mget_following\u001b[0m\u001b[0;34m(\u001b[0m\u001b[0mname\u001b[0m\u001b[0;34m,\u001b[0m \u001b[0msave_to_file\u001b[0m\u001b[0;34m=\u001b[0m\u001b[0;32mTrue\u001b[0m\u001b[0;34m)\u001b[0m\u001b[0;34m\u001b[0m\u001b[0;34m\u001b[0m\u001b[0m\n\u001b[0m\u001b[1;32m     23\u001b[0m         \u001b[0mpeople_list\u001b[0m\u001b[0;34m.\u001b[0m\u001b[0mappend\u001b[0m\u001b[0;34m(\u001b[0m\u001b[0mname\u001b[0m\u001b[0;34m)\u001b[0m\u001b[0;34m\u001b[0m\u001b[0;34m\u001b[0m\u001b[0m\n\u001b[1;32m     24\u001b[0m \u001b[0;34m\u001b[0m\u001b[0m\n",
      "\u001b[0;32m~/opt/anaconda3/lib/python3.8/site-packages/InstagramCLI/__init__.py\u001b[0m in \u001b[0;36mget_following\u001b[0;34m(self, target_username, save_to_file)\u001b[0m\n\u001b[1;32m    145\u001b[0m                 \u001b[0;32mreturn\u001b[0m \u001b[0mfollowing\u001b[0m\u001b[0;34m\u001b[0m\u001b[0;34m\u001b[0m\u001b[0m\n\u001b[1;32m    146\u001b[0m         \u001b[0;32mexcept\u001b[0m \u001b[0mException\u001b[0m \u001b[0;32mas\u001b[0m \u001b[0me\u001b[0m\u001b[0;34m:\u001b[0m\u001b[0;34m\u001b[0m\u001b[0;34m\u001b[0m\u001b[0m\n\u001b[0;32m--> 147\u001b[0;31m             \u001b[0mself\u001b[0m\u001b[0;34m.\u001b[0m\u001b[0mexception\u001b[0m\u001b[0;34m(\u001b[0m\u001b[0me\u001b[0m\u001b[0;34m)\u001b[0m\u001b[0;34m\u001b[0m\u001b[0;34m\u001b[0m\u001b[0m\n\u001b[0m\u001b[1;32m    148\u001b[0m \u001b[0;34m\u001b[0m\u001b[0m\n\u001b[1;32m    149\u001b[0m     \u001b[0;32mdef\u001b[0m \u001b[0mget_followers\u001b[0m\u001b[0;34m(\u001b[0m\u001b[0mself\u001b[0m\u001b[0;34m,\u001b[0m \u001b[0mtarget_username\u001b[0m\u001b[0;34m,\u001b[0m \u001b[0msave_to_file\u001b[0m\u001b[0;34m=\u001b[0m\u001b[0;32mFalse\u001b[0m\u001b[0;34m)\u001b[0m\u001b[0;34m:\u001b[0m\u001b[0;34m\u001b[0m\u001b[0;34m\u001b[0m\u001b[0m\n",
      "\u001b[0;32m~/opt/anaconda3/lib/python3.8/site-packages/InstagramCLI/__init__.py\u001b[0m in \u001b[0;36mexception\u001b[0;34m(***failed resolving arguments***)\u001b[0m\n\u001b[1;32m    110\u001b[0m             \u001b[0mprint\u001b[0m\u001b[0;34m(\u001b[0m\u001b[0me\u001b[0m\u001b[0;34m)\u001b[0m\u001b[0;34m\u001b[0m\u001b[0;34m\u001b[0m\u001b[0m\n\u001b[1;32m    111\u001b[0m             \u001b[0mself\u001b[0m\u001b[0;34m.\u001b[0m\u001b[0mclose\u001b[0m\u001b[0;34m(\u001b[0m\u001b[0;34m)\u001b[0m\u001b[0;34m\u001b[0m\u001b[0;34m\u001b[0m\u001b[0m\n\u001b[0;32m--> 112\u001b[0;31m             \u001b[0mexit\u001b[0m\u001b[0;34m(\u001b[0m\u001b[0;34m)\u001b[0m\u001b[0;34m\u001b[0m\u001b[0;34m\u001b[0m\u001b[0m\n\u001b[0m\u001b[1;32m    113\u001b[0m \u001b[0;34m\u001b[0m\u001b[0m\n\u001b[1;32m    114\u001b[0m     \u001b[0;32mdef\u001b[0m \u001b[0mconsole_logger\u001b[0m\u001b[0;34m(\u001b[0m\u001b[0mself\u001b[0m\u001b[0;34m,\u001b[0m \u001b[0mmessage\u001b[0m\u001b[0;34m,\u001b[0m \u001b[0mend\u001b[0m\u001b[0;34m=\u001b[0m\u001b[0;34m\"\\n\"\u001b[0m\u001b[0;34m)\u001b[0m\u001b[0;34m:\u001b[0m\u001b[0;34m\u001b[0m\u001b[0;34m\u001b[0m\u001b[0m\n",
      "\u001b[0;31mNameError\u001b[0m: name 'exit' is not defined"
     ]
    }
   ],
   "source": [
    "# -- crawl layer1 people's following people -- \n",
    "for i in tqdm(range(2,15142)):\n",
    "    name = ws.cell(row = i, column = 2).value\n",
    "    if name not in people_list:\n",
    "        \n",
    "#         try:\n",
    "#             r = requests.get(f'https://www.instagram.com/{name}/?__a=1')\n",
    "#             num = json.loads(r.content)['graphql']['user']['edge_follow']['count']\n",
    "            \n",
    "#             if num < 2000:\n",
    "#                 cli.get_following(name, save_to_file=True)\n",
    "#                 people_list.append(name)\n",
    "#                 continue\n",
    "#         except:\n",
    "#             pass\n",
    "            \n",
    "        user_info = cli.get_user_info(name, False)\n",
    "\n",
    "        if user_info == {} or user_info['following_count'] >= 2000:\n",
    "            continue\n",
    "            \n",
    "        cli.get_following(name, save_to_file=True)\n",
    "        people_list.append(name)\n",
    "        \n",
    "        time.sleep(1.3)"
   ]
  },
  {
   "cell_type": "code",
   "execution_count": null,
   "id": "ba8a31a8",
   "metadata": {},
   "outputs": [],
   "source": []
  },
  {
   "cell_type": "code",
   "execution_count": 55,
   "id": "0cb9bf20",
   "metadata": {},
   "outputs": [
    {
     "name": "stdout",
     "output_type": "stream",
     "text": [
      "2\n"
     ]
    }
   ],
   "source": [
    "# -- let data in Json to excel --\n",
    "num = 35514\n",
    "number = 1\n",
    "for doc in os.listdir('./following'):\n",
    "    if doc == '.DS_Store':\n",
    "        continue\n",
    "    \n",
    "    user = doc.split('_following')[0]\n",
    "\n",
    "    if user in excel_people_list:\n",
    "        continue\n",
    "        \n",
    "    with open(f'./following/{doc}') as f:\n",
    "        data = json.load(f)\n",
    "        for people in data:\n",
    "            follow_people = people['username']\n",
    "            \n",
    "            ws_new[f'A{num}'] = user\n",
    "            ws_new[f'B{num}'] = follow_people\n",
    "            \n",
    "            num += 1\n",
    "    number += 1\n",
    "wb_new.save('following_new.xlsx')\n",
    "print(number)"
   ]
  },
  {
   "cell_type": "code",
   "execution_count": 53,
   "id": "47eef2dd",
   "metadata": {},
   "outputs": [],
   "source": [
    "# -- delete data in following_new.xslx\n",
    "for i in range(34793, 40639):\n",
    "    ws_new[f'A{i}'] = ''\n",
    "    ws_new[f'B{i}'] = ''\n",
    "wb_new.save('following_new.xlsx')"
   ]
  },
  {
   "cell_type": "code",
   "execution_count": 59,
   "id": "c53e2762",
   "metadata": {},
   "outputs": [
    {
     "name": "stdout",
     "output_type": "stream",
     "text": [
      "80\n"
     ]
    }
   ],
   "source": [
    "print(len(people_list))"
   ]
  },
  {
   "cell_type": "code",
   "execution_count": 283,
   "id": "392df081",
   "metadata": {},
   "outputs": [
    {
     "name": "stdout",
     "output_type": "stream",
     "text": [
      "[20/04/2022 01:25:18] Disclaimer : Following list may contain duplicate and missing records. High risk of being blocked after 4k records.\n",
      "[20/04/2022 01:25:19] a_radish Following : 30\n"
     ]
    },
    {
     "data": {
      "text/plain": [
       "[]"
      ]
     },
     "execution_count": 283,
     "metadata": {},
     "output_type": "execute_result"
    }
   ],
   "source": [
    "cli.get_following('a_radish' ,save_to_file=True)"
   ]
  },
  {
   "cell_type": "code",
   "execution_count": 58,
   "id": "ee5e960f",
   "metadata": {},
   "outputs": [],
   "source": [
    "headers={\n",
    "    \"User-Agent\": \"Mozilla/5.0 (Macintosh; Intel Mac OS X 10_15_7) AppleWebKit/537.36 (KHTML, like Gecko) Chrome/96.0.4664.93 Safari/537.36\"    \n",
    "}"
   ]
  },
  {
   "cell_type": "code",
   "execution_count": 59,
   "id": "cd45b9ce",
   "metadata": {},
   "outputs": [],
   "source": [
    "r = requests.get(f'https://www.instagram.com/tsai_ingwen/?__a=1', headers = headers)"
   ]
  },
  {
   "cell_type": "code",
   "execution_count": 60,
   "id": "b7c103ff",
   "metadata": {},
   "outputs": [],
   "source": [
    "a = r.content"
   ]
  },
  {
   "cell_type": "code",
   "execution_count": 74,
   "id": "93745565",
   "metadata": {},
   "outputs": [
    {
     "name": "stdout",
     "output_type": "stream",
     "text": [
      "19\n"
     ]
    }
   ],
   "source": [
    "data = (json.loads(a))\n",
    "print(data['graphql']['user']['edge_follow']['count'])"
   ]
  },
  {
   "cell_type": "code",
   "execution_count": null,
   "id": "11c19423",
   "metadata": {},
   "outputs": [],
   "source": []
  },
  {
   "cell_type": "code",
   "execution_count": null,
   "id": "9a4335ad",
   "metadata": {},
   "outputs": [],
   "source": []
  }
 ],
 "metadata": {
  "kernelspec": {
   "display_name": "Python 3",
   "language": "python",
   "name": "python3"
  },
  "language_info": {
   "codemirror_mode": {
    "name": "ipython",
    "version": 3
   },
   "file_extension": ".py",
   "mimetype": "text/x-python",
   "name": "python",
   "nbconvert_exporter": "python",
   "pygments_lexer": "ipython3",
   "version": "3.8.8"
  }
 },
 "nbformat": 4,
 "nbformat_minor": 5
}
