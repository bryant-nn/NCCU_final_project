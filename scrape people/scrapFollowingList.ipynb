{
 "cells": [
  {
   "cell_type": "code",
   "execution_count": 1,
   "id": "e1494d28",
   "metadata": {},
   "outputs": [],
   "source": [
    "import os\n",
    "import openpyxl\n",
    "from openpyxl import Workbook\n",
    "from openpyxl.reader.excel import load_workbook\n",
    "import json\n",
    "import random\n",
    "import time\n",
    "import selenium\n",
    "from selenium import webdriver\n",
    "from selenium.webdriver.common.by import By\n",
    "from selenium.webdriver.support.ui import WebDriverWait\n",
    "from selenium.webdriver.common.action_chains import ActionChains\n",
    "from selenium.webdriver.support import expected_conditions as EC\n",
    "from selenium.webdriver.common.keys import Keys\n",
    "from webdriver_manager.chrome import ChromeDriverManager as CM"
   ]
  },
  {
   "cell_type": "code",
   "execution_count": 2,
   "id": "f818e4bd",
   "metadata": {},
   "outputs": [],
   "source": [
    "# Complete these 2 fields ==================\n",
    "# USERNAME = ''\n",
    "USERNAME = ''\n",
    "PASSWORD = ''\n",
    "# ==========================================\n",
    "\n",
    "TIMEOUT = 15\n",
    "\n",
    "small_time_list = [2.1, 2.3, 2.6, 3.1, 3.5, 1.9, 3.8, 4.2, 2.8, 1.5]"
   ]
  },
  {
   "cell_type": "code",
   "execution_count": 22,
   "id": "c895944b",
   "metadata": {},
   "outputs": [],
   "source": [
    "def scrape(usr, bot):\n",
    "    bot.get('https://www.instagram.com/{}/'.format(usr))\n",
    "\n",
    "    time.sleep(3.5)\n",
    "\n",
    "#     a = bot.find_elements_by_xpath('//*[@id=\"react-root\"]/section/main/div/ul/li[3]/a/div/span')\n",
    "#     user_input = int(a[0].text)\n",
    "#     a = bot.find_elements_by_class_name('g47SY ')\n",
    "#     user_input = int(a[2].text)\n",
    "    user_input = 1824\n",
    "    \n",
    "#     if user_input > 1500:\n",
    "#         print('following num is over 1500')\n",
    "#         return\n",
    "    \n",
    "#     if user_input == 0:\n",
    "#         print('following num is 0')\n",
    "#         return\n",
    "    \n",
    "#     WebDriverWait(bot, TIMEOUT).until(\n",
    "#         EC.presence_of_element_located((\n",
    "#             By.XPATH, '//*[@id=\"react-root\"]/section/main/div/ul/li[3]/a'))).click()\n",
    "    \n",
    "#     WebDriverWait(bot, TIMEOUT).until(\n",
    "#         EC.presence_of_element_located((\n",
    "#             By.XPATH, '//*[@id=\"react-root\"]/section/main/div/header/section/ul/li[3]/a'))).click()\n",
    "\n",
    "# kunda temp \n",
    "    WebDriverWait(bot, TIMEOUT).until(\n",
    "        EC.presence_of_element_located((\n",
    "            By.XPATH, '/html/body/div[1]/div/div[1]/div/div[1]/div/div/div[1]/div[1]/section/main/div/ul/li[3]/a'))).click()\n",
    "    \n",
    "    time.sleep(3.5)\n",
    "\n",
    "    print(f'[Info] - Scraping {usr} {user_input} following')\n",
    "\n",
    "    users = set()\n",
    "    \n",
    "    time1 = 1\n",
    "\n",
    "    if user_input < 9:\n",
    "        time1 = 1\n",
    "    else:\n",
    "        time1 = round(user_input // 9)\n",
    "    for _ in range(time1):\n",
    "\n",
    "        ActionChains(bot).send_keys(Keys.END).perform()\n",
    "\n",
    "        time.sleep(random.choice(small_time_list))\n",
    "\n",
    "        followers = bot.find_elements_by_xpath(\n",
    "            '//*[@id=\"react-root\"]/section/main/div/ul/div/li/div/div[1]/div[2]/div[1]/a')\n",
    "\n",
    "        # Getting url from href attribute\n",
    "        for i in followers:\n",
    "            if i.get_attribute('href'):\n",
    "                users.add(i.get_attribute('href').split(\"/\")[3])\n",
    "            else:\n",
    "                continue\n",
    "\n",
    "    print('[Info] - Saving...')\n",
    "    print(f'[DONE] - Your followers are saved in {usr}.txt file!')\n",
    "\n",
    "    with open(f'{usr}.txt', 'a') as file:\n",
    "        file.write('\\n'.join(users) + \"\\n\")"
   ]
  },
  {
   "cell_type": "code",
   "execution_count": 4,
   "id": "e01873b8",
   "metadata": {},
   "outputs": [
    {
     "name": "stderr",
     "output_type": "stream",
     "text": [
      "[WDM] - Current google-chrome version is 103.0.5060\n",
      "[WDM] - Get LATEST driver version for 103.0.5060\n",
      "[WDM] - There is no [mac64] chromedriver for browser 103.0.5060 in cache\n",
      "[WDM] - Get LATEST driver version for 103.0.5060\n"
     ]
    },
    {
     "name": "stdout",
     "output_type": "stream",
     "text": [
      " \n"
     ]
    },
    {
     "name": "stderr",
     "output_type": "stream",
     "text": [
      "[WDM] - Trying to download new driver from http://chromedriver.storage.googleapis.com/103.0.5060.53/chromedriver_mac64.zip\n",
      "[WDM] - Driver has been saved in cache [/Users/i7pmonkey/.wdm/drivers/chromedriver/mac64/103.0.5060.53]\n"
     ]
    },
    {
     "name": "stdout",
     "output_type": "stream",
     "text": [
      "[Info] - Logging in...\n"
     ]
    }
   ],
   "source": [
    "options = webdriver.ChromeOptions()\n",
    "# options.add_argument(\"--headless\")\n",
    "options.add_argument('--no-sandbox')\n",
    "options.add_argument(\"--log-level=3\")\n",
    "# mobile_emulation = {\"userAgent\":\"Mozilla/5.0 (Macintosh; Intel Mac OS X 10_15_7) AppleWebKit/537.36 (KHTML, like Gecko) Chrome/100.0.4896.127 Safari/537.36\"}\n",
    "mobile_emulation = {\n",
    "         \"userAgent\": \"Mozilla/5.0 (Linux; Android 4.2.1; en-us; Nexus 5 Build/JOP40D) AppleWebKit/535.19 (KHTML, like Gecko) Chrome/90.0.1025.166 Mobile Safari/535.19\"}\n",
    "options.add_experimental_option(\"mobileEmulation\", mobile_emulation)\n",
    "\n",
    "bot = webdriver.Chrome(executable_path=CM().install(), options=options)\n",
    "bot.set_window_size(600, 1000)\n",
    "\n",
    "bot.get('https://www.instagram.com/accounts/login/')\n",
    "\n",
    "time.sleep(2)\n",
    "\n",
    "print(\"[Info] - Logging in...\")\n",
    "\n",
    "user_element = WebDriverWait(bot, TIMEOUT).until(\n",
    "    EC.presence_of_element_located((\n",
    "        By.XPATH, '//*[@id=\"loginForm\"]/div[1]/div[3]/div/label/input')))\n",
    "\n",
    "user_element.send_keys(USERNAME)\n",
    "\n",
    "pass_element = WebDriverWait(bot, TIMEOUT).until(\n",
    "    EC.presence_of_element_located((\n",
    "        By.XPATH, '//*[@id=\"loginForm\"]/div[1]/div[4]/div/label/input')))\n",
    "\n",
    "pass_element.send_keys(PASSWORD)\n",
    "\n",
    "login_button = WebDriverWait(bot, TIMEOUT).until(\n",
    "    EC.presence_of_element_located((\n",
    "        By.XPATH, '//*[@id=\"loginForm\"]/div[1]/div[6]/button')))\n",
    "\n",
    "time.sleep(0.4)\n",
    "\n",
    "login_button.click()\n",
    "\n",
    "# time.sleep(5)"
   ]
  },
  {
   "cell_type": "code",
   "execution_count": 212,
   "id": "43b400de",
   "metadata": {},
   "outputs": [],
   "source": [
    "layer3 = []\n",
    "for i in range(1, 15142):\n",
    "    name = ws_new.cell(row=i, column=2).value\n",
    "    if name not in layer3 and name not in already_have_people:\n",
    "        layer3.append(name)"
   ]
  },
  {
   "cell_type": "code",
   "execution_count": 211,
   "id": "67417fde",
   "metadata": {},
   "outputs": [
    {
     "name": "stdout",
     "output_type": "stream",
     "text": [
      "jameschen0930\n",
      "mingjie.kuang\n",
      "lweianne\n",
      "laneywu117\n",
      "4\n"
     ]
    }
   ],
   "source": [
    "# =========== Opening JSON file ========\n",
    "# f = open('./filtered_username_politician.json')\n",
    "# f = open('./filtered_username_athlete.json')\n",
    "f = open('./filtered_singer_username.json')\n",
    "data = json.load(f)\n",
    "\n",
    "temp_list = []\n",
    "for d in data:\n",
    "    if d['username'] in layer3 and d['username'] not in already_have_people and d['username'] not in temp_list:\n",
    "        if d['username'] in zero_following_list:\n",
    "            continue\n",
    "        temp_list.append(d['username'])\n",
    "        print(d['username'])\n",
    "print(len(temp_list))"
   ]
  },
  {
   "cell_type": "code",
   "execution_count": 199,
   "id": "b7067d8b",
   "metadata": {},
   "outputs": [],
   "source": [
    "zero_following_list = ['johnwuig', 'chumin_zzsoszz', 'ma_yingjeou', 'weitingkuma', 'huang.guochang', '3qchen', 'senzonglee', 'jiangcunzhan', 'sheng1115a', 'chengliwen2020', 'nonnon112620'\n",
    "                       , 'wu830728', 'niklas_lamcf', 'mm658658', 'kaofornpp', 'taitungyao', 'genewu79888', 'chenshuibian88', 'choutienchen', 'eunicechanszeyan', 'limanfong','trulyman42195', 'sunnie_cat0111'\n",
    "                      , 'wei_0821022', 'lizlarababy0301', 'kuo_yen_fu', 'antony8955', 'elihsiehmusic', 'rainieyang_ina', 'hsieh_kunda', 'joyce.h0314', 'lan_chun_tien_219', 'yuming730625', 'ppigg', 'bobeyiyi'\n",
    "                      , 'pennyxtai', 'hebeloveu', 'reneliu2021', 'niandongrox', 'cheer___chen', 'lekimberleyy', 'kuangpingtso', 'supergarychaw', 'binghamyeh', 'yehweiting_uni', 'shishi_sun', 'sunwei228066','weihangchou'\n",
    "                      , 'claireccc___0715', 'chao_cheng_ping', 'jirorocker', 'daniellee0306', 'laneywu117']"
   ]
  },
  {
   "cell_type": "code",
   "execution_count": 241,
   "id": "70883063",
   "metadata": {
    "scrolled": false
   },
   "outputs": [
    {
     "name": "stderr",
     "output_type": "stream",
     "text": [
      "<ipython-input-241-b08fc019f70c>:3: DeprecationWarning: Call to deprecated function get_sheet_names (Use wb.sheetnames).\n",
      "  sheet_names_new = wb_new.get_sheet_names()\n",
      "<ipython-input-241-b08fc019f70c>:4: DeprecationWarning: Call to deprecated function get_sheet_by_name (Use wb[sheetname]).\n",
      "  ws_new = wb_new.get_sheet_by_name(sheet_names_new[0])\n"
     ]
    },
    {
     "name": "stdout",
     "output_type": "stream",
     "text": [
      "aleardy have len 477\n",
      "amber_fang_ji_wei_fans_club\n",
      "maya_maya_official\n",
      "2\n"
     ]
    }
   ],
   "source": [
    "# =========== import following_new.xslx =========\n",
    "wb_new = openpyxl.load_workbook('following_new.xlsx')\n",
    "sheet_names_new = wb_new.get_sheet_names()\n",
    "ws_new = wb_new.get_sheet_by_name(sheet_names_new[0])\n",
    "\n",
    "# =========== Opening JSON file ========\n",
    "f = open('./filtered_singer_username.json')\n",
    "# f = open('./filtered_username_politician.json')\n",
    "# f = open('./filtered_username_athlete.json')\n",
    "\n",
    "data = json.load(f)\n",
    "\n",
    "# =========== find total number of edges ======\n",
    "edge_num = 0\n",
    "while True:\n",
    "    name = ws_new.cell(row=edge_num + 2, column=1).value\n",
    "    if name == None:\n",
    "        break\n",
    "    edge_num += 1\n",
    "print(\"edge_num: \", edge_num)\n",
    "\n",
    "# -- already_have_people --\n",
    "already_have_people = []\n",
    "li = []\n",
    "for i in range(2, edge_num + 2):\n",
    "    if  i < 198340 and i >= 198004:\n",
    "        temp = ws_new.cell(row=i, column=2).value\n",
    "        if temp not in li:\n",
    "            li.append(temp)\n",
    "\n",
    "    name = ws_new.cell(row=i, column=1).value\n",
    "\n",
    "    if name not in already_have_people:\n",
    "            already_have_people.append(name)\n",
    "print('aleardy have len', len(already_have_people))\n",
    "\n",
    "# =========== topic people ==========\n",
    "singer_list = []\n",
    "for d in data:\n",
    "    if d['username'] in li and d['username'] not in already_have_people and d['username'] not in singer_list:\n",
    "        if d['username'] in zero_following_list:\n",
    "            continue\n",
    "        singer_list.append(d['username'])\n",
    "        print(d['username'])\n",
    "print(len(singer_list))"
   ]
  },
  {
   "cell_type": "code",
   "execution_count": 213,
   "id": "846594a7",
   "metadata": {},
   "outputs": [
    {
     "name": "stdout",
     "output_type": "stream",
     "text": [
      "[Info] - Scraping jameschen0930 35 following\n",
      "[Info] - Saving...\n",
      "[DONE] - Your followers are saved in jameschen0930.txt file!\n",
      "[Info] - Scraping mingjie.kuang 13 following\n",
      "[Info] - Saving...\n",
      "[DONE] - Your followers are saved in mingjie.kuang.txt file!\n",
      "[Info] - Scraping lweianne 339 following\n",
      "[Info] - Saving...\n",
      "[DONE] - Your followers are saved in lweianne.txt file!\n"
     ]
    }
   ],
   "source": [
    "big_time_list = [180, 190.2, 150.6, 195.5, 133.3, 114.6, 185.1, 188.5, 87.2, 61.2, 30.2]\n",
    "\n",
    "n = 0\n",
    "for usr in temp_list:\n",
    "    if n == 3:\n",
    "        break\n",
    "    n += 1\n",
    "    \n",
    "    if usr in already_have_people:\n",
    "        continue\n",
    "    try:\n",
    "        scrape(usr, bot)\n",
    "#     break\n",
    "\n",
    "        time.sleep(random.choice(big_time_list))\n",
    "    except:\n",
    "        print('error')\n",
    "        break\n",
    "        time.sleep(random.choice(big_time_list))\n",
    "        continue\n",
    "        "
   ]
  },
  {
   "cell_type": "code",
   "execution_count": 42,
   "id": "2c7f2037",
   "metadata": {},
   "outputs": [
    {
     "name": "stderr",
     "output_type": "stream",
     "text": [
      "<ipython-input-42-3eeef3337525>:3: DeprecationWarning: Call to deprecated function get_sheet_names (Use wb.sheetnames).\n",
      "  sheet_names_new = wb_new.get_sheet_names()\n",
      "<ipython-input-42-3eeef3337525>:4: DeprecationWarning: Call to deprecated function get_sheet_by_name (Use wb[sheetname]).\n",
      "  ws_new = wb_new.get_sheet_by_name(sheet_names_new[0])\n"
     ]
    }
   ],
   "source": [
    "# =========== import following_new.xslx =========\n",
    "wb_new = openpyxl.load_workbook('following_new.xlsx')\n",
    "sheet_names_new = wb_new.get_sheet_names()\n",
    "ws_new = wb_new.get_sheet_by_name(sheet_names_new[0])"
   ]
  },
  {
   "cell_type": "code",
   "execution_count": 43,
   "id": "f42e968a",
   "metadata": {},
   "outputs": [
    {
     "name": "stdout",
     "output_type": "stream",
     "text": [
      "1\n"
     ]
    }
   ],
   "source": [
    "num = edge_num + 2\n",
    "\n",
    "\n",
    "number = 0\n",
    "for doc in os.listdir('./'):\n",
    "    if '.txt' in doc:\n",
    "        name = doc.split('.txt')[0]\n",
    "        \n",
    "        if name in already_have_people:\n",
    "            continue\n",
    "        \n",
    "        number += 1\n",
    "        f = open(doc)\n",
    "        for line in f.readlines():\n",
    "            line = line.split('\\n')[0]\n",
    "            name = doc.split('.txt')[0]\n",
    "            \n",
    "            ws_new[f'A{num}'] = name\n",
    "            ws_new[f'B{num}'] = line\n",
    "            num += 1\n",
    "print(number)\n",
    "wb_new.save('following_new.xlsx')"
   ]
  },
  {
   "cell_type": "code",
   "execution_count": 217,
   "id": "d35e0e80",
   "metadata": {},
   "outputs": [
    {
     "name": "stdout",
     "output_type": "stream",
     "text": [
      "198002\n"
     ]
    }
   ],
   "source": [
    "print(edge_num)"
   ]
  },
  {
   "cell_type": "markdown",
   "id": "9fa0b3d5",
   "metadata": {},
   "source": [
    "## Split following_new.xlsx"
   ]
  },
  {
   "cell_type": "code",
   "execution_count": 44,
   "id": "a04fe37d",
   "metadata": {},
   "outputs": [
    {
     "name": "stderr",
     "output_type": "stream",
     "text": [
      "<ipython-input-44-3eeef3337525>:3: DeprecationWarning: Call to deprecated function get_sheet_names (Use wb.sheetnames).\n",
      "  sheet_names_new = wb_new.get_sheet_names()\n",
      "<ipython-input-44-3eeef3337525>:4: DeprecationWarning: Call to deprecated function get_sheet_by_name (Use wb[sheetname]).\n",
      "  ws_new = wb_new.get_sheet_by_name(sheet_names_new[0])\n"
     ]
    }
   ],
   "source": [
    "# =========== import following_new.xslx =========\n",
    "wb_new = openpyxl.load_workbook('following_new.xlsx')\n",
    "sheet_names_new = wb_new.get_sheet_names()\n",
    "ws_new = wb_new.get_sheet_by_name(sheet_names_new[0])"
   ]
  },
  {
   "cell_type": "code",
   "execution_count": 45,
   "id": "b9badfc4",
   "metadata": {},
   "outputs": [],
   "source": [
    "# build a new excel\n",
    "wb = Workbook()\n",
    "ws = wb.active\n",
    "ws['A1'] = 'Public_Peo_Name'\n",
    "ws['B1'] = 'Other_Peo_Name'"
   ]
  },
  {
   "cell_type": "code",
   "execution_count": 46,
   "id": "7593aa03",
   "metadata": {},
   "outputs": [],
   "source": [
    "# =========== Opening JSON file ========\n",
    "f = open('./filtered_singer_username.json')\n",
    "data_1 = json.load(f)\n",
    "\n",
    "f = open('./filtered_username_politician.json')\n",
    "data_2 = json.load(f)\n",
    "\n",
    "f = open('./filtered_username_athlete.json')\n",
    "data_3 = json.load(f)"
   ]
  },
  {
   "cell_type": "code",
   "execution_count": 47,
   "id": "7ef7678e",
   "metadata": {},
   "outputs": [
    {
     "name": "stdout",
     "output_type": "stream",
     "text": [
      "324\n",
      "591\n",
      "672\n"
     ]
    }
   ],
   "source": [
    "people_list = []\n",
    "for d in data_1:\n",
    "    if d['username'] not in people_list:\n",
    "        people_list.append(d['username'])\n",
    "\n",
    "print(len(people_list))       \n",
    "for d in data_2:\n",
    "    if d['username'] not in people_list:\n",
    "        people_list.append(d['username'])\n",
    "print(len(people_list))\n",
    "for d in data_3:\n",
    "    if d['username'] not in people_list:\n",
    "        people_list.append(d['username'])\n",
    "\n",
    "print(len(people_list))"
   ]
  },
  {
   "cell_type": "code",
   "execution_count": 52,
   "id": "8c4ede06",
   "metadata": {},
   "outputs": [
    {
     "name": "stdout",
     "output_type": "stream",
     "text": [
      "690\n"
     ]
    }
   ],
   "source": [
    "\n",
    "for i in range(2, 199076):\n",
    "    name = ws_new.cell(row=i, column=1).value\n",
    "    if name not in people_list:\n",
    "        people_list.append(name)\n",
    "\n",
    "print(len(people_list))"
   ]
  },
  {
   "cell_type": "code",
   "execution_count": 53,
   "id": "1fd6f8f0",
   "metadata": {},
   "outputs": [],
   "source": [
    "num = 2\n",
    "# temp = []\n",
    "for i in range(2, 199076):\n",
    "    name = ws_new.cell(row=i, column=1).value\n",
    "    following = ws_new.cell(row=i, column=2).value\n",
    "    \n",
    "    if following in people_list:\n",
    "#         temp.append(name)\n",
    "        ws[f'A{num}'] = name\n",
    "        ws[f'B{num}'] = following\n",
    "        num += 1\n",
    "wb.save('following_split_with_exist.xlsx')"
   ]
  },
  {
   "cell_type": "code",
   "execution_count": 54,
   "id": "26e7d014",
   "metadata": {},
   "outputs": [
    {
     "name": "stdout",
     "output_type": "stream",
     "text": [
      "False\n"
     ]
    }
   ],
   "source": [
    "print('juexii' in people_list)"
   ]
  },
  {
   "cell_type": "code",
   "execution_count": 18,
   "id": "ce1f2605",
   "metadata": {},
   "outputs": [
    {
     "name": "stderr",
     "output_type": "stream",
     "text": [
      "<ipython-input-18-d2e6fdaee001>:2: DeprecationWarning: Call to deprecated function get_sheet_names (Use wb.sheetnames).\n",
      "  sheet_names = wb.get_sheet_names()\n",
      "<ipython-input-18-d2e6fdaee001>:3: DeprecationWarning: Call to deprecated function get_sheet_by_name (Use wb[sheetname]).\n",
      "  ws = wb.get_sheet_by_name(sheet_names[0])\n"
     ]
    }
   ],
   "source": [
    "wb = openpyxl.load_workbook('following_split_with_exist.xlsx')\n",
    "sheet_names = wb.get_sheet_names()\n",
    "ws = wb.get_sheet_by_name(sheet_names[0])"
   ]
  },
  {
   "cell_type": "code",
   "execution_count": 21,
   "id": "13d043a2",
   "metadata": {},
   "outputs": [
    {
     "name": "stdout",
     "output_type": "stream",
     "text": [
      "455\n"
     ]
    }
   ],
   "source": [
    "name_list = []\n",
    "for i in range(2, 9426):\n",
    "    name = ws.cell(row=i, column=1).value\n",
    "    if name not in name_list:\n",
    "        name_list.append(name)\n",
    "print(len(name_list))"
   ]
  },
  {
   "cell_type": "code",
   "execution_count": null,
   "id": "93db0f39",
   "metadata": {},
   "outputs": [],
   "source": []
  }
 ],
 "metadata": {
  "interpreter": {
   "hash": "aee8b7b246df8f9039afb4144a1f6fd8d2ca17a180786b69acc140d282b71a49"
  },
  "kernelspec": {
   "display_name": "Python 3",
   "language": "python",
   "name": "python3"
  },
  "language_info": {
   "codemirror_mode": {
    "name": "ipython",
    "version": 3
   },
   "file_extension": ".py",
   "mimetype": "text/x-python",
   "name": "python",
   "nbconvert_exporter": "python",
   "pygments_lexer": "ipython3",
   "version": "3.8.8"
  }
 },
 "nbformat": 4,
 "nbformat_minor": 5
}
