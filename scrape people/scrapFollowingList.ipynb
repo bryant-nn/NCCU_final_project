{
 "cells": [
  {
   "cell_type": "code",
   "execution_count": 1,
   "id": "e1494d28",
   "metadata": {},
   "outputs": [],
   "source": [
    "import os\n",
    "import openpyxl\n",
    "from openpyxl import Workbook\n",
    "from openpyxl.reader.excel import load_workbook\n",
    "import json\n",
    "import random\n",
    "import time\n",
    "import selenium\n",
    "from selenium import webdriver\n",
    "from selenium.webdriver.common.by import By\n",
    "from selenium.webdriver.support.ui import WebDriverWait\n",
    "from selenium.webdriver.common.action_chains import ActionChains\n",
    "from selenium.webdriver.support import expected_conditions as EC\n",
    "from selenium.webdriver.common.keys import Keys\n",
    "from webdriver_manager.chrome import ChromeDriverManager as CM"
   ]
  },
  {
   "cell_type": "code",
   "execution_count": 2,
   "id": "f818e4bd",
   "metadata": {},
   "outputs": [],
   "source": [
    "# Complete these 2 fields ==================\n",
    "USERNAME = 'just_for_fun0323'\n",
    "# USERNAME = 'fight_song_007'\n",
    "PASSWORD = 'happy123456'\n",
    "# ==========================================\n",
    "\n",
    "TIMEOUT = 15\n",
    "\n",
    "small_time_list = [2.1, 2.3, 2.6, 3.1, 3.5, 1.9, 3.8, 4.2, 2.8, 1.5]"
   ]
  },
  {
   "cell_type": "code",
   "execution_count": 3,
   "id": "c895944b",
   "metadata": {},
   "outputs": [],
   "source": [
    "def scrape(usr, bot):\n",
    "    bot.get('https://www.instagram.com/{}/'.format(usr))\n",
    "\n",
    "    time.sleep(3.5)\n",
    "\n",
    "#     a = bot.find_elements_by_xpath('//*[@id=\"react-root\"]/section/main/div/ul/li[3]/a/div/span')\n",
    "#     user_input = int(a[0].text)\n",
    "    a = bot.find_elements_by_class_name('g47SY ')\n",
    "    user_input = int(a[2].text)\n",
    "    \n",
    "    if user_input > 1500:\n",
    "        print('following num is over 1500')\n",
    "        return\n",
    "    \n",
    "    if user_input == 0:\n",
    "        print('following num is 0')\n",
    "        return\n",
    "    \n",
    "    WebDriverWait(bot, TIMEOUT).until(\n",
    "        EC.presence_of_element_located((\n",
    "            By.XPATH, '//*[@id=\"react-root\"]/section/main/div/ul/li[3]/a'))).click()\n",
    "    \n",
    "#     WebDriverWait(bot, TIMEOUT).until(\n",
    "#         EC.presence_of_element_located((\n",
    "#             By.XPATH, '//*[@id=\"react-root\"]/section/main/div/header/section/ul/li[3]/a'))).click()\n",
    "    \n",
    "    time.sleep(3.5)\n",
    "\n",
    "    print(f'[Info] - Scraping {usr} {user_input} following')\n",
    "\n",
    "    users = set()\n",
    "    \n",
    "    time1 = 1\n",
    "\n",
    "    if user_input < 9:\n",
    "        time1 = 1\n",
    "    else:\n",
    "        time1 = round(user_input // 9)\n",
    "    for _ in range(time1):\n",
    "\n",
    "        ActionChains(bot).send_keys(Keys.END).perform()\n",
    "\n",
    "        time.sleep(random.choice(small_time_list))\n",
    "\n",
    "        followers = bot.find_elements_by_xpath(\n",
    "            '//*[@id=\"react-root\"]/section/main/div/ul/div/li/div/div[1]/div[2]/div[1]/a')\n",
    "\n",
    "        # Getting url from href attribute\n",
    "        for i in followers:\n",
    "            if i.get_attribute('href'):\n",
    "                users.add(i.get_attribute('href').split(\"/\")[3])\n",
    "            else:\n",
    "                continue\n",
    "\n",
    "    print('[Info] - Saving...')\n",
    "    print(f'[DONE] - Your followers are saved in {usr}.txt file!')\n",
    "\n",
    "    with open(f'{usr}.txt', 'a') as file:\n",
    "        file.write('\\n'.join(users) + \"\\n\")"
   ]
  },
  {
   "cell_type": "code",
   "execution_count": 4,
   "id": "e01873b8",
   "metadata": {},
   "outputs": [
    {
     "name": "stderr",
     "output_type": "stream",
     "text": [
      "[WDM] - Current google-chrome version is 101.0.4951\n",
      "[WDM] - Get LATEST driver version for 101.0.4951\n"
     ]
    },
    {
     "name": "stdout",
     "output_type": "stream",
     "text": [
      " \n"
     ]
    },
    {
     "name": "stderr",
     "output_type": "stream",
     "text": [
      "[WDM] - Get LATEST driver version for 101.0.4951\n",
      "[WDM] - Trying to download new driver from http://chromedriver.storage.googleapis.com/101.0.4951.41/chromedriver_mac64.zip\n",
      "[WDM] - Driver has been saved in cache [/Users/i7pmonkey/.wdm/drivers/chromedriver/mac64/101.0.4951.41]\n"
     ]
    },
    {
     "name": "stdout",
     "output_type": "stream",
     "text": [
      "[Info] - Logging in...\n"
     ]
    }
   ],
   "source": [
    "options = webdriver.ChromeOptions()\n",
    "# options.add_argument(\"--headless\")\n",
    "options.add_argument('--no-sandbox')\n",
    "options.add_argument(\"--log-level=3\")\n",
    "# mobile_emulation = {\"userAgent\":\"Mozilla/5.0 (Macintosh; Intel Mac OS X 10_15_7) AppleWebKit/537.36 (KHTML, like Gecko) Chrome/100.0.4896.127 Safari/537.36\"}\n",
    "mobile_emulation = {\n",
    "         \"userAgent\": \"Mozilla/5.0 (Linux; Android 4.2.1; en-us; Nexus 5 Build/JOP40D) AppleWebKit/535.19 (KHTML, like Gecko) Chrome/90.0.1025.166 Mobile Safari/535.19\"}\n",
    "options.add_experimental_option(\"mobileEmulation\", mobile_emulation)\n",
    "\n",
    "bot = webdriver.Chrome(executable_path=CM().install(), options=options)\n",
    "bot.set_window_size(600, 1000)\n",
    "\n",
    "bot.get('https://www.instagram.com/accounts/login/')\n",
    "\n",
    "time.sleep(2)\n",
    "\n",
    "print(\"[Info] - Logging in...\")\n",
    "\n",
    "user_element = WebDriverWait(bot, TIMEOUT).until(\n",
    "    EC.presence_of_element_located((\n",
    "        By.XPATH, '//*[@id=\"loginForm\"]/div[1]/div[3]/div/label/input')))\n",
    "\n",
    "user_element.send_keys(USERNAME)\n",
    "\n",
    "pass_element = WebDriverWait(bot, TIMEOUT).until(\n",
    "    EC.presence_of_element_located((\n",
    "        By.XPATH, '//*[@id=\"loginForm\"]/div[1]/div[4]/div/label/input')))\n",
    "\n",
    "pass_element.send_keys(PASSWORD)\n",
    "\n",
    "login_button = WebDriverWait(bot, TIMEOUT).until(\n",
    "    EC.presence_of_element_located((\n",
    "        By.XPATH, '//*[@id=\"loginForm\"]/div[1]/div[6]/button')))\n",
    "\n",
    "time.sleep(0.4)\n",
    "\n",
    "login_button.click()\n",
    "\n",
    "# time.sleep(5)"
   ]
  },
  {
   "cell_type": "code",
   "execution_count": 106,
   "id": "43b400de",
   "metadata": {},
   "outputs": [],
   "source": [
    "layer3 = []\n",
    "for i in range(76826, edge_num+2):\n",
    "    name = ws_new.cell(row=i, column=2).value\n",
    "    if name not in layer3 and name not in already_have_people:\n",
    "        layer3.append(name)"
   ]
  },
  {
   "cell_type": "code",
   "execution_count": 109,
   "id": "67417fde",
   "metadata": {},
   "outputs": [
    {
     "name": "stdout",
     "output_type": "stream",
     "text": [
      "87\n"
     ]
    }
   ],
   "source": [
    "# =========== Opening JSON file ========\n",
    "# f = open('./filtered_username_politician.json')\n",
    "# f = open('./filtered_username_athlete.json')\n",
    "f = open('./filtered_singer_username.json')\n",
    "data = json.load(f)\n",
    "\n",
    "temp_list = []\n",
    "for d in data:\n",
    "    if d['username'] in layer3 and d['username'] not in already_have_people and d['username'] not in temp_list:\n",
    "        if d['username'] in zero_following_list:\n",
    "            continue\n",
    "        temp_list.append(d['username'])\n",
    "print(len(temp_list))"
   ]
  },
  {
   "cell_type": "code",
   "execution_count": 124,
   "id": "b7067d8b",
   "metadata": {},
   "outputs": [],
   "source": [
    "zero_following_list = ['johnwuig', 'chumin_zzsoszz', 'ma_yingjeou', 'weitingkuma', 'huang.guochang', '3qchen', 'senzonglee', 'jiangcunzhan', 'sheng1115a', 'chengliwen2020', 'nonnon112620'\n",
    "                       , 'wu830728', 'niklas_lamcf', 'mm658658', 'kaofornpp', 'taitungyao', 'genewu79888', 'chenshuibian88', 'choutienchen', 'eunicechanszeyan', 'limanfong','trulyman42195', 'sunnie_cat0111'\n",
    "                      , 'wei_0821022', 'lizlarababy0301', 'kuo_yen_fu', 'antony8955', 'elihsiehmusic', 'rainieyang_ina', 'hsieh_kunda', 'joyce.h0314', 'lan_chun_tien_219', 'yuming730625', 'ppigg', 'bobeyiyi'\n",
    "                      , 'pennyxtai', 'hebeloveu', 'reneliu2021', 'niandongrox', 'cheer___chen', 'lekimberleyy', 'kuangpingtso', 'supergarychaw', 'binghamyeh', 'yehweiting_uni', 'shishi_sun']"
   ]
  },
  {
   "cell_type": "code",
   "execution_count": null,
   "id": "70883063",
   "metadata": {
    "scrolled": false
   },
   "outputs": [
    {
     "name": "stderr",
     "output_type": "stream",
     "text": [
      "<ipython-input-131-f455f46205fd>:3: DeprecationWarning: Call to deprecated function get_sheet_names (Use wb.sheetnames).\n",
      "  sheet_names_new = wb_new.get_sheet_names()\n",
      "<ipython-input-131-f455f46205fd>:4: DeprecationWarning: Call to deprecated function get_sheet_by_name (Use wb[sheetname]).\n",
      "  ws_new = wb_new.get_sheet_by_name(sheet_names_new[0])\n"
     ]
    },
    {
     "name": "stdout",
     "output_type": "stream",
     "text": [
      "edge_num:  176917\n",
      "aleardy have len 421\n",
      "dianawangofficial\n",
      "cindyyenofficial\n",
      "janiceyanmusic\n",
      "3\n"
     ]
    }
   ],
   "source": [
    "# =========== import following_new.xslx =========\n",
    "wb_new = openpyxl.load_workbook('following_new.xlsx')\n",
    "sheet_names_new = wb_new.get_sheet_names()\n",
    "ws_new = wb_new.get_sheet_by_name(sheet_names_new[0])\n",
    "\n",
    "# =========== Opening JSON file ========\n",
    "f = open('./filtered_singer_username.json')\n",
    "data = json.load(f)\n",
    "\n",
    "# =========== find total number of edges ======\n",
    "edge_num = 0\n",
    "while True:\n",
    "    name = ws_new.cell(row=edge_num + 2, column=1).value\n",
    "    if name == None:\n",
    "        break\n",
    "    edge_num += 1\n",
    "print(\"edge_num: \", edge_num)\n",
    "\n",
    "# -- already_have_people --\n",
    "already_have_people = []\n",
    "li = []\n",
    "for i in range(2, edge_num + 2):\n",
    "    if i >= 15143 and i < 76826:\n",
    "        temp = ws_new.cell(row=i, column=2).value\n",
    "        if temp not in li:\n",
    "            li.append(temp)\n",
    "\n",
    "    name = ws_new.cell(row=i, column=1).value\n",
    "\n",
    "    if name not in already_have_people:\n",
    "            already_have_people.append(name)\n",
    "print('aleardy have len', len(already_have_people))\n",
    "\n",
    "# =========== topic people ==========\n",
    "singer_list = []\n",
    "for d in data:\n",
    "    if d['username'] in li and d['username'] not in already_have_people and d['username'] not in singer_list:\n",
    "        if d['username'] in zero_following_list:\n",
    "            continue\n",
    "        singer_list.append(d['username'])\n",
    "        print(d['username'])\n",
    "print(len(singer_list))"
   ]
  },
  {
   "cell_type": "code",
   "execution_count": 129,
   "id": "846594a7",
   "metadata": {},
   "outputs": [
    {
     "name": "stdout",
     "output_type": "stream",
     "text": [
      "[Info] - Scraping cyndiloves2sing 456 following\n",
      "[Info] - Saving...\n",
      "[DONE] - Your followers are saved in cyndiloves2sing.txt file!\n",
      "[Info] - Scraping dianawangofficial 587 following\n",
      "[Info] - Saving...\n",
      "[DONE] - Your followers are saved in dianawangofficial.txt file!\n",
      "error\n"
     ]
    }
   ],
   "source": [
    "big_time_list = [180, 190.2, 150.6, 195.5, 133.3, 114.6, 185.1, 188.5, 87.2, 61.2, 30.2, 18.2]\n",
    "\n",
    "n = 0\n",
    "for usr in singer_list:\n",
    "    if n == 4:\n",
    "        break\n",
    "    n += 1\n",
    "    \n",
    "    if usr in already_have_people:\n",
    "        continue\n",
    "    try:\n",
    "        scrape(usr, bot)\n",
    "#     break\n",
    "\n",
    "        time.sleep(random.choice(big_time_list))\n",
    "    except:\n",
    "        print('error')\n",
    "        break\n",
    "        time.sleep(random.choice(big_time_list))\n",
    "        continue\n",
    "        "
   ]
  },
  {
   "cell_type": "code",
   "execution_count": 130,
   "id": "f42e968a",
   "metadata": {},
   "outputs": [
    {
     "name": "stdout",
     "output_type": "stream",
     "text": [
      "1\n"
     ]
    }
   ],
   "source": [
    "num = edge_num + 2\n",
    "number = 0\n",
    "for doc in os.listdir('./'):\n",
    "    if '.txt' in doc:\n",
    "        name = doc.split('.txt')[0]\n",
    "        \n",
    "        if name in already_have_people:\n",
    "            continue\n",
    "        \n",
    "        number += 1\n",
    "        f = open(doc)\n",
    "        for line in f.readlines():\n",
    "            line = line.split('\\n')[0]\n",
    "            name = doc.split('.txt')[0]\n",
    "            \n",
    "            ws_new[f'A{num}'] = name\n",
    "            ws_new[f'B{num}'] = line\n",
    "            num += 1\n",
    "print(number)\n",
    "wb_new.save('following_new.xlsx')"
   ]
  },
  {
   "cell_type": "code",
   "execution_count": 43,
   "id": "d35e0e80",
   "metadata": {},
   "outputs": [
    {
     "name": "stdout",
     "output_type": "stream",
     "text": [
      "149313\n"
     ]
    }
   ],
   "source": [
    "print(edge_num)"
   ]
  },
  {
   "cell_type": "code",
   "execution_count": 159,
   "id": "3b4948d1",
   "metadata": {},
   "outputs": [],
   "source": [
    "a = bot.find_elements_by_xpath('//*[@id=\"react-root\"]/section/main/div/ul/li[3]/a/div/span')"
   ]
  },
  {
   "cell_type": "code",
   "execution_count": 160,
   "id": "ac978f32",
   "metadata": {},
   "outputs": [],
   "source": [
    "user_input = int(a[0].text)"
   ]
  },
  {
   "cell_type": "code",
   "execution_count": 162,
   "id": "8f20e813",
   "metadata": {},
   "outputs": [
    {
     "name": "stdout",
     "output_type": "stream",
     "text": [
      "316\n"
     ]
    }
   ],
   "source": [
    "print(a[0].text)"
   ]
  },
  {
   "cell_type": "code",
   "execution_count": 115,
   "id": "1dbe1900",
   "metadata": {},
   "outputs": [],
   "source": [
    "//*[@id=\"react-root\"]/section/main/div/header/section/ul/li[3]/a"
   ]
  },
  {
   "cell_type": "code",
   "execution_count": 158,
   "id": "8da277d6",
   "metadata": {},
   "outputs": [],
   "source": [
    "WebDriverWait(bot, TIMEOUT).until(\n",
    "        EC.presence_of_element_located((\n",
    "            By.XPATH, '//*[@id=\"react-root\"]/section/main/div/ul/li[3]/a'))).click()"
   ]
  },
  {
   "cell_type": "code",
   "execution_count": 125,
   "id": "eeb0c398",
   "metadata": {},
   "outputs": [],
   "source": [
    "def f(bot):\n",
    "    for _ in range(31):\n",
    "\n",
    "        ActionChains(bot).send_keys(Keys.END).perform()\n",
    "\n",
    "        time.sleep(random.choice(small_time_list))\n",
    "\n",
    "        followers = bot.find_elements_by_xpath(\n",
    "            '//*[@id=\"react-root\"]/section/main/div/ul/div/li/div/div[1]/div[2]/div[1]/a')\n",
    "\n",
    "        # Getting url from href attribute\n",
    "        for i in followers:\n",
    "            if i.get_attribute('href'):\n",
    "                users.add(i.get_attribute('href').split(\"/\")[3])\n",
    "            else:\n",
    "                continue\n",
    "\n",
    "    print('[Info] - Saving...')\n",
    "    print(f'[DONE] - Your followers are saved in {usr}.txt file!')\n",
    "\n",
    "    with open(f'{usr}.txt', 'a') as file:\n",
    "        file.write('\\n'.join(users) + \"\\n\")"
   ]
  },
  {
   "cell_type": "code",
   "execution_count": 126,
   "id": "084774ac",
   "metadata": {},
   "outputs": [
    {
     "name": "stdout",
     "output_type": "stream",
     "text": [
      "[Info] - Saving...\n",
      "[DONE] - Your followers are saved in csktaiwan.txt file!\n"
     ]
    },
    {
     "ename": "NameError",
     "evalue": "name 'users' is not defined",
     "output_type": "error",
     "traceback": [
      "\u001b[0;31m---------------------------------------------------------------------------\u001b[0m",
      "\u001b[0;31mNameError\u001b[0m                                 Traceback (most recent call last)",
      "\u001b[0;32m<ipython-input-126-0426b2851203>\u001b[0m in \u001b[0;36m<module>\u001b[0;34m\u001b[0m\n\u001b[0;32m----> 1\u001b[0;31m \u001b[0mf\u001b[0m\u001b[0;34m(\u001b[0m\u001b[0mbot\u001b[0m\u001b[0;34m)\u001b[0m\u001b[0;34m\u001b[0m\u001b[0;34m\u001b[0m\u001b[0m\n\u001b[0m",
      "\u001b[0;32m<ipython-input-125-aadb60d5855f>\u001b[0m in \u001b[0;36mf\u001b[0;34m(bot)\u001b[0m\n\u001b[1;32m     20\u001b[0m \u001b[0;34m\u001b[0m\u001b[0m\n\u001b[1;32m     21\u001b[0m     \u001b[0;32mwith\u001b[0m \u001b[0mopen\u001b[0m\u001b[0;34m(\u001b[0m\u001b[0;34mf'{usr}.txt'\u001b[0m\u001b[0;34m,\u001b[0m \u001b[0;34m'a'\u001b[0m\u001b[0;34m)\u001b[0m \u001b[0;32mas\u001b[0m \u001b[0mfile\u001b[0m\u001b[0;34m:\u001b[0m\u001b[0;34m\u001b[0m\u001b[0;34m\u001b[0m\u001b[0m\n\u001b[0;32m---> 22\u001b[0;31m         \u001b[0mfile\u001b[0m\u001b[0;34m.\u001b[0m\u001b[0mwrite\u001b[0m\u001b[0;34m(\u001b[0m\u001b[0;34m'\\n'\u001b[0m\u001b[0;34m.\u001b[0m\u001b[0mjoin\u001b[0m\u001b[0;34m(\u001b[0m\u001b[0musers\u001b[0m\u001b[0;34m)\u001b[0m \u001b[0;34m+\u001b[0m \u001b[0;34m\"\\n\"\u001b[0m\u001b[0;34m)\u001b[0m\u001b[0;34m\u001b[0m\u001b[0;34m\u001b[0m\u001b[0m\n\u001b[0m",
      "\u001b[0;31mNameError\u001b[0m: name 'users' is not defined"
     ]
    }
   ],
   "source": [
    "f(bot)"
   ]
  },
  {
   "cell_type": "code",
   "execution_count": 139,
   "id": "57d46dfe",
   "metadata": {},
   "outputs": [],
   "source": [
    "followers = bot.find_elements_by_xpath(\n",
    "            '/html/body/div[6]/div/div/div/div[3]/ul/div')"
   ]
  },
  {
   "cell_type": "code",
   "execution_count": 142,
   "id": "58d75e22",
   "metadata": {},
   "outputs": [
    {
     "name": "stdout",
     "output_type": "stream",
     "text": [
      "rodriguezscott32\n"
     ]
    }
   ],
   "source": [
    "print(followers[0].text.split('\\n')[0])"
   ]
  },
  {
   "cell_type": "code",
   "execution_count": null,
   "id": "6e321856",
   "metadata": {},
   "outputs": [],
   "source": [
    "/html/body/div[6]/div/div/div/div[3]/ul/div/li[1]/div/div[1]/div[2]/div[1]/a"
   ]
  },
  {
   "cell_type": "code",
   "execution_count": 145,
   "id": "bcc63c70",
   "metadata": {},
   "outputs": [
    {
     "name": "stdout",
     "output_type": "stream",
     "text": [
      "rodriguezscott32\n",
      "Rodriguez Scott\n",
      "追蹤\n",
      "hugo_nick.lee\n",
      "Lee Hao-Hsuan\n",
      "追蹤\n",
      "rita.lee.7946\n",
      "Ritabao\n",
      "追蹤\n",
      "ricky631019\n",
      "鎮全 楊\n",
      "追蹤\n",
      "kaori640411\n",
      "Sally Wei\n",
      "追蹤\n",
      "dacheng1025\n",
      "DaCheng Cheng\n",
      "追蹤\n",
      "talen0408\n",
      "Talen Lo\n",
      "追蹤\n",
      "kaojustin\n",
      "Justin Kao\n",
      "追蹤\n",
      "rocky_shih1209\n",
      "Rocky Shih\n",
      "追蹤\n",
      "ck_po0217\n",
      "CK Po\n",
      "追蹤\n",
      "angele801002\n",
      "Angele isn’t Angel\n",
      "追蹤\n",
      "chishiutai\n",
      "Chi-Shiu Tai\n",
      "追蹤\n"
     ]
    }
   ],
   "source": [
    "print(followers[0].text)"
   ]
  },
  {
   "cell_type": "code",
   "execution_count": 163,
   "id": "cf8e85bb",
   "metadata": {},
   "outputs": [],
   "source": [
    "a = bot.find_elements_by_class_name('g47SY ')\n",
    "user_input = int(a[2].text)"
   ]
  },
  {
   "cell_type": "code",
   "execution_count": 164,
   "id": "52000576",
   "metadata": {},
   "outputs": [
    {
     "name": "stdout",
     "output_type": "stream",
     "text": [
      "316\n"
     ]
    }
   ],
   "source": [
    "print(user_input)"
   ]
  },
  {
   "cell_type": "code",
   "execution_count": null,
   "id": "4417b4b3",
   "metadata": {},
   "outputs": [],
   "source": []
  }
 ],
 "metadata": {
  "kernelspec": {
   "display_name": "Python 3",
   "language": "python",
   "name": "python3"
  },
  "language_info": {
   "codemirror_mode": {
    "name": "ipython",
    "version": 3
   },
   "file_extension": ".py",
   "mimetype": "text/x-python",
   "name": "python",
   "nbconvert_exporter": "python",
   "pygments_lexer": "ipython3",
   "version": "3.8.8"
  }
 },
 "nbformat": 4,
 "nbformat_minor": 5
}
