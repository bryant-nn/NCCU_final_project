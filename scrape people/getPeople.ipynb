{
 "cells": [
  {
   "cell_type": "code",
   "execution_count": 5,
   "id": "64d5df58",
   "metadata": {},
   "outputs": [],
   "source": [
    "import os\n",
    "import time\n",
    "\n",
    "import pandas as pd\n",
    "from tqdm import tqdm\n",
    "\n",
    "from selenium import webdriver\n",
    "from selenium.webdriver.support.ui import WebDriverWait\n",
    "from selenium.webdriver.support import expected_conditions as EC\n",
    "from selenium.webdriver.common.by import By\n",
    "from selenium.common.exceptions import TimeoutException"
   ]
  },
  {
   "cell_type": "code",
   "execution_count": 6,
   "id": "6b6f2cf9",
   "metadata": {},
   "outputs": [
    {
     "name": "stderr",
     "output_type": "stream",
     "text": [
      "<ipython-input-6-28afe0c0881e>:1: DeprecationWarning: executable_path has been deprecated, please pass in a Service object\n",
      "  browser = webdriver.Chrome(executable_path=\"./chromedriver\")\n"
     ]
    }
   ],
   "source": [
    "browser = webdriver.Chrome(executable_path=\"./chromedriver\")"
   ]
  },
  {
   "cell_type": "code",
   "execution_count": 7,
   "id": "1c8cd538",
   "metadata": {},
   "outputs": [],
   "source": [
    "# -- youtuber/ 政治人物/ 名嘴/ 歌手\n",
    "# pre_href = 'https://dailyview.tw/top100/topic/36?volumn=1&page='\n",
    "# pre_href = 'https://dailyview.tw/top100/topic/9?volumn=1&page='\n",
    "# pre_href = 'https://dailyview.tw/top100/topic/114?volumn=1&page='\n",
    "pre_href = 'https://dailyview.tw/top100/topic/8?volumn=1&page='"
   ]
  },
  {
   "cell_type": "code",
   "execution_count": 8,
   "id": "fa3b7d3a",
   "metadata": {},
   "outputs": [],
   "source": [
    "lis = []\n",
    "\n",
    "# -- this function is to get data at tag h3 --\n",
    "def h3(lis):\n",
    "    try:\n",
    "        t = browser.find_elements_by_tag_name('h3')\n",
    "        for temp in t:\n",
    "            if temp.text != '' and temp.text not in lis:\n",
    "                lis.append(temp.text)\n",
    "        \n",
    "    except:\n",
    "        h3(lis)"
   ]
  },
  {
   "cell_type": "code",
   "execution_count": 11,
   "id": "5f0887fa",
   "metadata": {
    "scrolled": true
   },
   "outputs": [
    {
     "name": "stderr",
     "output_type": "stream",
     "text": [
      "<ipython-input-8-f6f7abba4e84>:3: DeprecationWarning: find_elements_by_* commands are deprecated. Please use find_elements() instead\n",
      "  t = browser.find_elements_by_tag_name('h3')\n"
     ]
    }
   ],
   "source": [
    "# scrape 4 kind of people\n",
    "\n",
    "for i in range(16, 21):\n",
    "    href = f'{pre_href}{i}'\n",
    "    \n",
    "    try:\n",
    "        browser.get(href)\n",
    "        time.sleep(3.5)\n",
    "    except:\n",
    "        browser.get(href)\n",
    "    \n",
    "    # -- each page has 10 people --\n",
    "    for j in range(1, 11):\n",
    "        h3(lis)\n",
    "            \n",
    "    time.sleep(3)"
   ]
  },
  {
   "cell_type": "code",
   "execution_count": 12,
   "id": "c7ee61ad",
   "metadata": {
    "scrolled": true
   },
   "outputs": [],
   "source": [
    "# let list save as .csv\n",
    "dic = {'name': lis}\n",
    "df = pd.DataFrame(dic) \n",
    "df.to_csv('people.csv')"
   ]
  },
  {
   "cell_type": "code",
   "execution_count": 13,
   "id": "113d5da6",
   "metadata": {},
   "outputs": [],
   "source": [
    "browser.close()"
   ]
  },
  {
   "cell_type": "code",
   "execution_count": null,
   "id": "14275439",
   "metadata": {},
   "outputs": [],
   "source": []
  },
  {
   "cell_type": "code",
   "execution_count": null,
   "id": "93c5497d",
   "metadata": {},
   "outputs": [],
   "source": []
  },
  {
   "cell_type": "code",
   "execution_count": null,
   "id": "97c43def",
   "metadata": {},
   "outputs": [],
   "source": []
  },
  {
   "cell_type": "code",
   "execution_count": null,
   "id": "621008bf",
   "metadata": {},
   "outputs": [],
   "source": [
    "\n"
   ]
  },
  {
   "cell_type": "code",
   "execution_count": 2,
   "id": "97b9f520",
   "metadata": {},
   "outputs": [],
   "source": [
    "from csv import reader\n",
    "lis = []\n",
    "with open('youtuber2.csv', 'r') as csv_file:\n",
    "    csv_reader = reader(csv_file)\n",
    "    l = list(csv_reader)\n",
    "    \n",
    "    for tt in l:\n",
    "        if tt[1] != 'name':\n",
    "            lis.append(tt[1])\n",
    "    \n"
   ]
  },
  {
   "cell_type": "code",
   "execution_count": null,
   "id": "ab194ab4",
   "metadata": {},
   "outputs": [],
   "source": []
  },
  {
   "cell_type": "code",
   "execution_count": null,
   "id": "a44148cd",
   "metadata": {},
   "outputs": [],
   "source": []
  }
 ],
 "metadata": {
  "kernelspec": {
   "display_name": "Python 3",
   "language": "python",
   "name": "python3"
  },
  "language_info": {
   "codemirror_mode": {
    "name": "ipython",
    "version": 3
   },
   "file_extension": ".py",
   "mimetype": "text/x-python",
   "name": "python",
   "nbconvert_exporter": "python",
   "pygments_lexer": "ipython3",
   "version": "3.8.8"
  }
 },
 "nbformat": 4,
 "nbformat_minor": 5
}
